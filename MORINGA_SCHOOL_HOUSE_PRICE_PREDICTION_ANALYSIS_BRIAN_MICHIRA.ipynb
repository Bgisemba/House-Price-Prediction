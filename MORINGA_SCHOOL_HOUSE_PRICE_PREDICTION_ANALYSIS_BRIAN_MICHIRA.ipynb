{
  "nbformat": 4,
  "nbformat_minor": 0,
  "metadata": {
    "colab": {
      "name": "MORINGA_SCHOOL_HOUSE_PRICE_PREDICTION_ANALYSIS_BRIAN_MICHIRA",
      "provenance": [],
      "collapsed_sections": [
        "w2PKWrxli_M2"
      ],
      "authorship_tag": "ABX9TyMuoVsPrgjvbU6OGz958Ai4",
      "include_colab_link": true
    },
    "kernelspec": {
      "name": "python3",
      "display_name": "Python 3"
    },
    "language_info": {
      "name": "python"
    }
  },
  "cells": [
    {
      "cell_type": "markdown",
      "metadata": {
        "id": "view-in-github",
        "colab_type": "text"
      },
      "source": [
        "<a href=\"https://colab.research.google.com/github/BrianGisemba/House-Price-Prediction/blob/main/MORINGA_SCHOOL_HOUSE_PRICE_PREDICTION_ANALYSIS_BRIAN_MICHIRA.ipynb\" target=\"_parent\"><img src=\"https://colab.research.google.com/assets/colab-badge.svg\" alt=\"Open In Colab\"/></a>"
      ]
    },
    {
      "cell_type": "markdown",
      "metadata": {
        "id": "MIBOuBY0XDS9"
      },
      "source": [
        "##1.DEfinning the Question"
      ]
    },
    {
      "cell_type": "markdown",
      "metadata": {
        "id": "op3AbJlUU8r5"
      },
      "source": [
        "a)SPECIFY THE QUESTION\n",
        "\n",
        "As Data Scientist we have been tasked to study the factors that affect housing prices and create a suitable model that will help predict the sale of prices. \n",
        "\n"
      ]
    },
    {
      "cell_type": "markdown",
      "metadata": {
        "id": "r_sjD7ULWBF_"
      },
      "source": [
        "b)Defining the Metrics of Success\n",
        "\n",
        "We will be able to determine the model that can be used to accurately predict the housing prices.\n"
      ]
    },
    {
      "cell_type": "markdown",
      "metadata": {
        "id": "ABTyYHu_XNzi"
      },
      "source": [
        "c)Understanding the context\n",
        "\n",
        "To determine the right housing prices the Real Estate wants a model that can accurately predict hence increasing the number of customers."
      ]
    },
    {
      "cell_type": "markdown",
      "metadata": {
        "id": "hlybIYSfZHJP"
      },
      "source": [
        "##IMPORTING LIBRARIES"
      ]
    },
    {
      "cell_type": "code",
      "metadata": {
        "id": "TxpQDGByW_72"
      },
      "source": [
        "#importing libraries\n",
        "import pandas as pd\n",
        "import numpy as np\n",
        "import matplotlib.pyplot as plt\n",
        "import seaborn as sns\n",
        "import warnings\n",
        "warnings.filterwarnings(\"ignore\")"
      ],
      "execution_count": null,
      "outputs": []
    },
    {
      "cell_type": "markdown",
      "metadata": {
        "id": "EXRVHyxkZQH-"
      },
      "source": [
        "##LOADING AND PREVIEWING THE DATASET"
      ]
    },
    {
      "cell_type": "code",
      "metadata": {
        "id": "QV4qtJcyXl-M"
      },
      "source": [
        "#loading the dataset\n",
        "housing=pd.read_csv(\"/content/Independent Project Week 7 - house_data.csv\")\n"
      ],
      "execution_count": null,
      "outputs": []
    },
    {
      "cell_type": "code",
      "metadata": {
        "colab": {
          "base_uri": "https://localhost:8080/",
          "height": 226
        },
        "id": "77V9-giAedai",
        "outputId": "1e9d96ae-7e37-43ff-da6d-728e99f37239"
      },
      "source": [
        "#peviewing the top of the dataset\n",
        "housing.head()"
      ],
      "execution_count": null,
      "outputs": [
        {
          "output_type": "execute_result",
          "data": {
            "text/html": [
              "<div>\n",
              "<style scoped>\n",
              "    .dataframe tbody tr th:only-of-type {\n",
              "        vertical-align: middle;\n",
              "    }\n",
              "\n",
              "    .dataframe tbody tr th {\n",
              "        vertical-align: top;\n",
              "    }\n",
              "\n",
              "    .dataframe thead th {\n",
              "        text-align: right;\n",
              "    }\n",
              "</style>\n",
              "<table border=\"1\" class=\"dataframe\">\n",
              "  <thead>\n",
              "    <tr style=\"text-align: right;\">\n",
              "      <th></th>\n",
              "      <th>id</th>\n",
              "      <th>price</th>\n",
              "      <th>bedrooms</th>\n",
              "      <th>bathrooms</th>\n",
              "      <th>sqft_living</th>\n",
              "      <th>sqft_lot</th>\n",
              "      <th>floors</th>\n",
              "      <th>waterfront</th>\n",
              "      <th>view</th>\n",
              "      <th>condition</th>\n",
              "      <th>grade</th>\n",
              "      <th>sqft_above</th>\n",
              "      <th>sqft_basement</th>\n",
              "      <th>yr_built</th>\n",
              "      <th>yr_renovated</th>\n",
              "      <th>zipcode</th>\n",
              "      <th>lat</th>\n",
              "      <th>long</th>\n",
              "      <th>sqft_living15</th>\n",
              "      <th>sqft_lot15</th>\n",
              "    </tr>\n",
              "  </thead>\n",
              "  <tbody>\n",
              "    <tr>\n",
              "      <th>0</th>\n",
              "      <td>7129300520</td>\n",
              "      <td>221900.0</td>\n",
              "      <td>3</td>\n",
              "      <td>1.00</td>\n",
              "      <td>1180</td>\n",
              "      <td>5650</td>\n",
              "      <td>1.0</td>\n",
              "      <td>0</td>\n",
              "      <td>0</td>\n",
              "      <td>3</td>\n",
              "      <td>7</td>\n",
              "      <td>1180</td>\n",
              "      <td>0</td>\n",
              "      <td>1955</td>\n",
              "      <td>0</td>\n",
              "      <td>98178</td>\n",
              "      <td>47.5112</td>\n",
              "      <td>-122.257</td>\n",
              "      <td>1340</td>\n",
              "      <td>5650</td>\n",
              "    </tr>\n",
              "    <tr>\n",
              "      <th>1</th>\n",
              "      <td>6414100192</td>\n",
              "      <td>538000.0</td>\n",
              "      <td>3</td>\n",
              "      <td>2.25</td>\n",
              "      <td>2570</td>\n",
              "      <td>7242</td>\n",
              "      <td>2.0</td>\n",
              "      <td>0</td>\n",
              "      <td>0</td>\n",
              "      <td>3</td>\n",
              "      <td>7</td>\n",
              "      <td>2170</td>\n",
              "      <td>400</td>\n",
              "      <td>1951</td>\n",
              "      <td>1991</td>\n",
              "      <td>98125</td>\n",
              "      <td>47.7210</td>\n",
              "      <td>-122.319</td>\n",
              "      <td>1690</td>\n",
              "      <td>7639</td>\n",
              "    </tr>\n",
              "    <tr>\n",
              "      <th>2</th>\n",
              "      <td>5631500400</td>\n",
              "      <td>180000.0</td>\n",
              "      <td>2</td>\n",
              "      <td>1.00</td>\n",
              "      <td>770</td>\n",
              "      <td>10000</td>\n",
              "      <td>1.0</td>\n",
              "      <td>0</td>\n",
              "      <td>0</td>\n",
              "      <td>3</td>\n",
              "      <td>6</td>\n",
              "      <td>770</td>\n",
              "      <td>0</td>\n",
              "      <td>1933</td>\n",
              "      <td>0</td>\n",
              "      <td>98028</td>\n",
              "      <td>47.7379</td>\n",
              "      <td>-122.233</td>\n",
              "      <td>2720</td>\n",
              "      <td>8062</td>\n",
              "    </tr>\n",
              "    <tr>\n",
              "      <th>3</th>\n",
              "      <td>2487200875</td>\n",
              "      <td>604000.0</td>\n",
              "      <td>4</td>\n",
              "      <td>3.00</td>\n",
              "      <td>1960</td>\n",
              "      <td>5000</td>\n",
              "      <td>1.0</td>\n",
              "      <td>0</td>\n",
              "      <td>0</td>\n",
              "      <td>5</td>\n",
              "      <td>7</td>\n",
              "      <td>1050</td>\n",
              "      <td>910</td>\n",
              "      <td>1965</td>\n",
              "      <td>0</td>\n",
              "      <td>98136</td>\n",
              "      <td>47.5208</td>\n",
              "      <td>-122.393</td>\n",
              "      <td>1360</td>\n",
              "      <td>5000</td>\n",
              "    </tr>\n",
              "    <tr>\n",
              "      <th>4</th>\n",
              "      <td>1954400510</td>\n",
              "      <td>510000.0</td>\n",
              "      <td>3</td>\n",
              "      <td>2.00</td>\n",
              "      <td>1680</td>\n",
              "      <td>8080</td>\n",
              "      <td>1.0</td>\n",
              "      <td>0</td>\n",
              "      <td>0</td>\n",
              "      <td>3</td>\n",
              "      <td>8</td>\n",
              "      <td>1680</td>\n",
              "      <td>0</td>\n",
              "      <td>1987</td>\n",
              "      <td>0</td>\n",
              "      <td>98074</td>\n",
              "      <td>47.6168</td>\n",
              "      <td>-122.045</td>\n",
              "      <td>1800</td>\n",
              "      <td>7503</td>\n",
              "    </tr>\n",
              "  </tbody>\n",
              "</table>\n",
              "</div>"
            ],
            "text/plain": [
              "           id     price  bedrooms  ...     long  sqft_living15  sqft_lot15\n",
              "0  7129300520  221900.0         3  ... -122.257           1340        5650\n",
              "1  6414100192  538000.0         3  ... -122.319           1690        7639\n",
              "2  5631500400  180000.0         2  ... -122.233           2720        8062\n",
              "3  2487200875  604000.0         4  ... -122.393           1360        5000\n",
              "4  1954400510  510000.0         3  ... -122.045           1800        7503\n",
              "\n",
              "[5 rows x 20 columns]"
            ]
          },
          "metadata": {
            "tags": []
          },
          "execution_count": 3
        }
      ]
    },
    {
      "cell_type": "code",
      "metadata": {
        "colab": {
          "base_uri": "https://localhost:8080/",
          "height": 226
        },
        "id": "qGFnc7wBewwF",
        "outputId": "2013d03d-9646-4962-d9cb-59d0c0a2fce3"
      },
      "source": [
        "#previewing the bottom of the dataset\n",
        "housing.tail()"
      ],
      "execution_count": null,
      "outputs": [
        {
          "output_type": "execute_result",
          "data": {
            "text/html": [
              "<div>\n",
              "<style scoped>\n",
              "    .dataframe tbody tr th:only-of-type {\n",
              "        vertical-align: middle;\n",
              "    }\n",
              "\n",
              "    .dataframe tbody tr th {\n",
              "        vertical-align: top;\n",
              "    }\n",
              "\n",
              "    .dataframe thead th {\n",
              "        text-align: right;\n",
              "    }\n",
              "</style>\n",
              "<table border=\"1\" class=\"dataframe\">\n",
              "  <thead>\n",
              "    <tr style=\"text-align: right;\">\n",
              "      <th></th>\n",
              "      <th>id</th>\n",
              "      <th>price</th>\n",
              "      <th>bedrooms</th>\n",
              "      <th>bathrooms</th>\n",
              "      <th>sqft_living</th>\n",
              "      <th>sqft_lot</th>\n",
              "      <th>floors</th>\n",
              "      <th>waterfront</th>\n",
              "      <th>view</th>\n",
              "      <th>condition</th>\n",
              "      <th>grade</th>\n",
              "      <th>sqft_above</th>\n",
              "      <th>sqft_basement</th>\n",
              "      <th>yr_built</th>\n",
              "      <th>yr_renovated</th>\n",
              "      <th>zipcode</th>\n",
              "      <th>lat</th>\n",
              "      <th>long</th>\n",
              "      <th>sqft_living15</th>\n",
              "      <th>sqft_lot15</th>\n",
              "    </tr>\n",
              "  </thead>\n",
              "  <tbody>\n",
              "    <tr>\n",
              "      <th>21608</th>\n",
              "      <td>263000018</td>\n",
              "      <td>360000.0</td>\n",
              "      <td>3</td>\n",
              "      <td>2.50</td>\n",
              "      <td>1530</td>\n",
              "      <td>1131</td>\n",
              "      <td>3.0</td>\n",
              "      <td>0</td>\n",
              "      <td>0</td>\n",
              "      <td>3</td>\n",
              "      <td>8</td>\n",
              "      <td>1530</td>\n",
              "      <td>0</td>\n",
              "      <td>2009</td>\n",
              "      <td>0</td>\n",
              "      <td>98103</td>\n",
              "      <td>47.6993</td>\n",
              "      <td>-122.346</td>\n",
              "      <td>1530</td>\n",
              "      <td>1509</td>\n",
              "    </tr>\n",
              "    <tr>\n",
              "      <th>21609</th>\n",
              "      <td>6600060120</td>\n",
              "      <td>400000.0</td>\n",
              "      <td>4</td>\n",
              "      <td>2.50</td>\n",
              "      <td>2310</td>\n",
              "      <td>5813</td>\n",
              "      <td>2.0</td>\n",
              "      <td>0</td>\n",
              "      <td>0</td>\n",
              "      <td>3</td>\n",
              "      <td>8</td>\n",
              "      <td>2310</td>\n",
              "      <td>0</td>\n",
              "      <td>2014</td>\n",
              "      <td>0</td>\n",
              "      <td>98146</td>\n",
              "      <td>47.5107</td>\n",
              "      <td>-122.362</td>\n",
              "      <td>1830</td>\n",
              "      <td>7200</td>\n",
              "    </tr>\n",
              "    <tr>\n",
              "      <th>21610</th>\n",
              "      <td>1523300141</td>\n",
              "      <td>402101.0</td>\n",
              "      <td>2</td>\n",
              "      <td>0.75</td>\n",
              "      <td>1020</td>\n",
              "      <td>1350</td>\n",
              "      <td>2.0</td>\n",
              "      <td>0</td>\n",
              "      <td>0</td>\n",
              "      <td>3</td>\n",
              "      <td>7</td>\n",
              "      <td>1020</td>\n",
              "      <td>0</td>\n",
              "      <td>2009</td>\n",
              "      <td>0</td>\n",
              "      <td>98144</td>\n",
              "      <td>47.5944</td>\n",
              "      <td>-122.299</td>\n",
              "      <td>1020</td>\n",
              "      <td>2007</td>\n",
              "    </tr>\n",
              "    <tr>\n",
              "      <th>21611</th>\n",
              "      <td>291310100</td>\n",
              "      <td>400000.0</td>\n",
              "      <td>3</td>\n",
              "      <td>2.50</td>\n",
              "      <td>1600</td>\n",
              "      <td>2388</td>\n",
              "      <td>2.0</td>\n",
              "      <td>0</td>\n",
              "      <td>0</td>\n",
              "      <td>3</td>\n",
              "      <td>8</td>\n",
              "      <td>1600</td>\n",
              "      <td>0</td>\n",
              "      <td>2004</td>\n",
              "      <td>0</td>\n",
              "      <td>98027</td>\n",
              "      <td>47.5345</td>\n",
              "      <td>-122.069</td>\n",
              "      <td>1410</td>\n",
              "      <td>1287</td>\n",
              "    </tr>\n",
              "    <tr>\n",
              "      <th>21612</th>\n",
              "      <td>1523300157</td>\n",
              "      <td>325000.0</td>\n",
              "      <td>2</td>\n",
              "      <td>0.75</td>\n",
              "      <td>1020</td>\n",
              "      <td>1076</td>\n",
              "      <td>2.0</td>\n",
              "      <td>0</td>\n",
              "      <td>0</td>\n",
              "      <td>3</td>\n",
              "      <td>7</td>\n",
              "      <td>1020</td>\n",
              "      <td>0</td>\n",
              "      <td>2008</td>\n",
              "      <td>0</td>\n",
              "      <td>98144</td>\n",
              "      <td>47.5941</td>\n",
              "      <td>-122.299</td>\n",
              "      <td>1020</td>\n",
              "      <td>1357</td>\n",
              "    </tr>\n",
              "  </tbody>\n",
              "</table>\n",
              "</div>"
            ],
            "text/plain": [
              "               id     price  bedrooms  ...     long  sqft_living15  sqft_lot15\n",
              "21608   263000018  360000.0         3  ... -122.346           1530        1509\n",
              "21609  6600060120  400000.0         4  ... -122.362           1830        7200\n",
              "21610  1523300141  402101.0         2  ... -122.299           1020        2007\n",
              "21611   291310100  400000.0         3  ... -122.069           1410        1287\n",
              "21612  1523300157  325000.0         2  ... -122.299           1020        1357\n",
              "\n",
              "[5 rows x 20 columns]"
            ]
          },
          "metadata": {
            "tags": []
          },
          "execution_count": 4
        }
      ]
    },
    {
      "cell_type": "code",
      "metadata": {
        "colab": {
          "base_uri": "https://localhost:8080/"
        },
        "id": "GqpsYYxefIZD",
        "outputId": "38bcbbb5-4738-4d21-b0ed-1695ea8f0593"
      },
      "source": [
        "#looking at the number of records\n",
        "housing.shape"
      ],
      "execution_count": null,
      "outputs": [
        {
          "output_type": "execute_result",
          "data": {
            "text/plain": [
              "(21613, 20)"
            ]
          },
          "metadata": {
            "tags": []
          },
          "execution_count": 5
        }
      ]
    },
    {
      "cell_type": "code",
      "metadata": {
        "colab": {
          "base_uri": "https://localhost:8080/"
        },
        "id": "UWAIdSz2e3Wo",
        "outputId": "e7788a6f-61aa-4215-bc05-4cac66bc880b"
      },
      "source": [
        "#looking  at the data types of the variables\n",
        "housing.info()"
      ],
      "execution_count": null,
      "outputs": [
        {
          "output_type": "stream",
          "text": [
            "<class 'pandas.core.frame.DataFrame'>\n",
            "RangeIndex: 21613 entries, 0 to 21612\n",
            "Data columns (total 20 columns):\n",
            " #   Column         Non-Null Count  Dtype  \n",
            "---  ------         --------------  -----  \n",
            " 0   id             21613 non-null  int64  \n",
            " 1   price          21613 non-null  float64\n",
            " 2   bedrooms       21613 non-null  int64  \n",
            " 3   bathrooms      21613 non-null  float64\n",
            " 4   sqft_living    21613 non-null  int64  \n",
            " 5   sqft_lot       21613 non-null  int64  \n",
            " 6   floors         21613 non-null  float64\n",
            " 7   waterfront     21613 non-null  int64  \n",
            " 8   view           21613 non-null  int64  \n",
            " 9   condition      21613 non-null  int64  \n",
            " 10  grade          21613 non-null  int64  \n",
            " 11  sqft_above     21613 non-null  int64  \n",
            " 12  sqft_basement  21613 non-null  int64  \n",
            " 13  yr_built       21613 non-null  int64  \n",
            " 14  yr_renovated   21613 non-null  int64  \n",
            " 15  zipcode        21613 non-null  int64  \n",
            " 16  lat            21613 non-null  float64\n",
            " 17  long           21613 non-null  float64\n",
            " 18  sqft_living15  21613 non-null  int64  \n",
            " 19  sqft_lot15     21613 non-null  int64  \n",
            "dtypes: float64(5), int64(15)\n",
            "memory usage: 3.3 MB\n"
          ],
          "name": "stdout"
        }
      ]
    },
    {
      "cell_type": "markdown",
      "metadata": {
        "id": "9dJFV8IiB-LY"
      },
      "source": [
        "##CLEANING THE DATASET"
      ]
    },
    {
      "cell_type": "code",
      "metadata": {
        "colab": {
          "base_uri": "https://localhost:8080/"
        },
        "id": "H3WIgFu5fyRg",
        "outputId": "bef219de-6c7f-4575-c4c6-fab9cbacb884"
      },
      "source": [
        "#Checking for duplicates\n",
        "housing.duplicated().sum()"
      ],
      "execution_count": null,
      "outputs": [
        {
          "output_type": "execute_result",
          "data": {
            "text/plain": [
              "3"
            ]
          },
          "metadata": {
            "tags": []
          },
          "execution_count": 7
        }
      ]
    },
    {
      "cell_type": "code",
      "metadata": {
        "colab": {
          "base_uri": "https://localhost:8080/",
          "height": 164
        },
        "id": "8e64wycngsgB",
        "outputId": "08dc18bc-c9f5-4618-df11-9df2793fcc36"
      },
      "source": [
        "#viewing the duplicates\n",
        "housing[housing.duplicated()]"
      ],
      "execution_count": null,
      "outputs": [
        {
          "output_type": "execute_result",
          "data": {
            "text/html": [
              "<div>\n",
              "<style scoped>\n",
              "    .dataframe tbody tr th:only-of-type {\n",
              "        vertical-align: middle;\n",
              "    }\n",
              "\n",
              "    .dataframe tbody tr th {\n",
              "        vertical-align: top;\n",
              "    }\n",
              "\n",
              "    .dataframe thead th {\n",
              "        text-align: right;\n",
              "    }\n",
              "</style>\n",
              "<table border=\"1\" class=\"dataframe\">\n",
              "  <thead>\n",
              "    <tr style=\"text-align: right;\">\n",
              "      <th></th>\n",
              "      <th>id</th>\n",
              "      <th>price</th>\n",
              "      <th>bedrooms</th>\n",
              "      <th>bathrooms</th>\n",
              "      <th>sqft_living</th>\n",
              "      <th>sqft_lot</th>\n",
              "      <th>floors</th>\n",
              "      <th>waterfront</th>\n",
              "      <th>view</th>\n",
              "      <th>condition</th>\n",
              "      <th>grade</th>\n",
              "      <th>sqft_above</th>\n",
              "      <th>sqft_basement</th>\n",
              "      <th>yr_built</th>\n",
              "      <th>yr_renovated</th>\n",
              "      <th>zipcode</th>\n",
              "      <th>lat</th>\n",
              "      <th>long</th>\n",
              "      <th>sqft_living15</th>\n",
              "      <th>sqft_lot15</th>\n",
              "    </tr>\n",
              "  </thead>\n",
              "  <tbody>\n",
              "    <tr>\n",
              "      <th>3951</th>\n",
              "      <td>1825069031</td>\n",
              "      <td>550000.0</td>\n",
              "      <td>4</td>\n",
              "      <td>1.75</td>\n",
              "      <td>2410</td>\n",
              "      <td>8447</td>\n",
              "      <td>2.0</td>\n",
              "      <td>0</td>\n",
              "      <td>3</td>\n",
              "      <td>4</td>\n",
              "      <td>8</td>\n",
              "      <td>2060</td>\n",
              "      <td>350</td>\n",
              "      <td>1936</td>\n",
              "      <td>1980</td>\n",
              "      <td>98074</td>\n",
              "      <td>47.6499</td>\n",
              "      <td>-122.088</td>\n",
              "      <td>2520</td>\n",
              "      <td>14789</td>\n",
              "    </tr>\n",
              "    <tr>\n",
              "      <th>14983</th>\n",
              "      <td>6308000010</td>\n",
              "      <td>585000.0</td>\n",
              "      <td>3</td>\n",
              "      <td>2.50</td>\n",
              "      <td>2290</td>\n",
              "      <td>5089</td>\n",
              "      <td>2.0</td>\n",
              "      <td>0</td>\n",
              "      <td>0</td>\n",
              "      <td>3</td>\n",
              "      <td>9</td>\n",
              "      <td>2290</td>\n",
              "      <td>0</td>\n",
              "      <td>2001</td>\n",
              "      <td>0</td>\n",
              "      <td>98006</td>\n",
              "      <td>47.5443</td>\n",
              "      <td>-122.172</td>\n",
              "      <td>2290</td>\n",
              "      <td>7984</td>\n",
              "    </tr>\n",
              "    <tr>\n",
              "      <th>20054</th>\n",
              "      <td>8648900110</td>\n",
              "      <td>555000.0</td>\n",
              "      <td>3</td>\n",
              "      <td>2.50</td>\n",
              "      <td>1940</td>\n",
              "      <td>3211</td>\n",
              "      <td>2.0</td>\n",
              "      <td>0</td>\n",
              "      <td>0</td>\n",
              "      <td>3</td>\n",
              "      <td>8</td>\n",
              "      <td>1940</td>\n",
              "      <td>0</td>\n",
              "      <td>2009</td>\n",
              "      <td>0</td>\n",
              "      <td>98027</td>\n",
              "      <td>47.5644</td>\n",
              "      <td>-122.093</td>\n",
              "      <td>1880</td>\n",
              "      <td>3078</td>\n",
              "    </tr>\n",
              "  </tbody>\n",
              "</table>\n",
              "</div>"
            ],
            "text/plain": [
              "               id     price  bedrooms  ...     long  sqft_living15  sqft_lot15\n",
              "3951   1825069031  550000.0         4  ... -122.088           2520       14789\n",
              "14983  6308000010  585000.0         3  ... -122.172           2290        7984\n",
              "20054  8648900110  555000.0         3  ... -122.093           1880        3078\n",
              "\n",
              "[3 rows x 20 columns]"
            ]
          },
          "metadata": {
            "tags": []
          },
          "execution_count": 8
        }
      ]
    },
    {
      "cell_type": "markdown",
      "metadata": {
        "id": "N8RVVg4hZezQ"
      },
      "source": [
        "There is no need of dropping the duplicates"
      ]
    },
    {
      "cell_type": "code",
      "metadata": {
        "colab": {
          "base_uri": "https://localhost:8080/"
        },
        "id": "lPtwrizYg4dF",
        "outputId": "f2b0d199-fc2a-4093-f0ea-551011d83ce7"
      },
      "source": [
        "#checking for missing values\n",
        "housing.isnull().sum()"
      ],
      "execution_count": null,
      "outputs": [
        {
          "output_type": "execute_result",
          "data": {
            "text/plain": [
              "id               0\n",
              "price            0\n",
              "bedrooms         0\n",
              "bathrooms        0\n",
              "sqft_living      0\n",
              "sqft_lot         0\n",
              "floors           0\n",
              "waterfront       0\n",
              "view             0\n",
              "condition        0\n",
              "grade            0\n",
              "sqft_above       0\n",
              "sqft_basement    0\n",
              "yr_built         0\n",
              "yr_renovated     0\n",
              "zipcode          0\n",
              "lat              0\n",
              "long             0\n",
              "sqft_living15    0\n",
              "sqft_lot15       0\n",
              "dtype: int64"
            ]
          },
          "metadata": {
            "tags": []
          },
          "execution_count": 9
        }
      ]
    },
    {
      "cell_type": "code",
      "metadata": {
        "colab": {
          "base_uri": "https://localhost:8080/"
        },
        "id": "7prxAPJGh_gc",
        "outputId": "50088005-0e5a-4318-9c87-af2a0ca97e5e"
      },
      "source": [
        "#viewing the columns\n",
        "housing.columns"
      ],
      "execution_count": null,
      "outputs": [
        {
          "output_type": "execute_result",
          "data": {
            "text/plain": [
              "Index(['id', 'price', 'bedrooms', 'bathrooms', 'sqft_living', 'sqft_lot',\n",
              "       'floors', 'waterfront', 'view', 'condition', 'grade', 'sqft_above',\n",
              "       'sqft_basement', 'yr_built', 'yr_renovated', 'zipcode', 'lat', 'long',\n",
              "       'sqft_living15', 'sqft_lot15'],\n",
              "      dtype='object')"
            ]
          },
          "metadata": {
            "tags": []
          },
          "execution_count": 10
        }
      ]
    },
    {
      "cell_type": "code",
      "metadata": {
        "colab": {
          "base_uri": "https://localhost:8080/",
          "height": 1000
        },
        "id": "d8AwKUHvhKZ3",
        "outputId": "09bf8721-3447-4018-ed41-a33a0d3a834b"
      },
      "source": [
        "#checking for outliers\n",
        "#Box plots to see the outliers\n",
        "\n",
        "col_names = ['price', 'bedrooms', 'bathrooms', 'sqft_living', 'sqft_lot',\n",
        "       'floors', 'waterfront', 'view', 'condition', 'grade', 'sqft_above',\n",
        "       'sqft_basement', 'yr_built', 'yr_renovated', 'zipcode', 'lat', 'long',\n",
        "       'sqft_living15', 'sqft_lot15']\n",
        "\n",
        "fig, ax = plt.subplots(len(col_names), figsize=(8,40))\n",
        "\n",
        "for i, col_val in enumerate(col_names):\n",
        "        \n",
        "    sns.boxplot(y=housing[col_val], ax=ax[i])\n",
        "    ax[i].set_title('Box plot - '+col_val, fontsize=10)\n",
        "    ax[i].set_xlabel(col_val, fontsize=8)\n",
        "    \n",
        "plt.show()"
      ],
      "execution_count": null,
      "outputs": [
        {
          "output_type": "display_data",
          "data": {
            "image/png": "[encoded data removed]",
            "text/plain": [
              "<Figure size 576x2880 with 19 Axes>"
            ]
          },
          "metadata": {
            "tags": [],
            "needs_background": "light"
          }
        }
      ]
    },
    {
      "cell_type": "code",
      "metadata": {
        "colab": {
          "base_uri": "https://localhost:8080/"
        },
        "id": "nD36e0XYhDVh",
        "outputId": "2c992668-365e-46f7-a5ff-998a44d5aa3a"
      },
      "source": [
        "# dealing with outliers\n",
        "# quantiles\n",
        "Q1 = housing.quantile(0.25)\n",
        "Q3 = housing.quantile(0.75)\n",
        "IQR = Q3 - Q1\n",
        "\n",
        "# Removing outliers based on the IQR range \n",
        "house = housing[~((housing < (Q1 - 1.5 * IQR)) | (housing > (Q3 + 1.5 * IQR))).any(axis=1)]\n",
        "\n",
        "# Printing the shape of our new dataset\n",
        "print(house.shape)\n",
        "\n",
        "# Printing the shape of our old dataset\n",
        "print(housing.shape)"
      ],
      "execution_count": null,
      "outputs": [
        {
          "output_type": "stream",
          "text": [
            "(14931, 20)\n",
            "(21613, 20)\n"
          ],
          "name": "stdout"
        }
      ]
    },
    {
      "cell_type": "code",
      "metadata": {
        "colab": {
          "base_uri": "https://localhost:8080/"
        },
        "id": "9AxDY_kOhDSd",
        "outputId": "ed5d3fde-5444-4cbe-9048-1d95e9b8e669"
      },
      "source": [
        "# Check for unique values in each column\n",
        "for col in house.columns.to_list():\n",
        "  print(f'{col} column unique values:\\n')\n",
        "  print(house[col].unique(), end='\\n')\n",
        "  print('\\n')"
      ],
      "execution_count": null,
      "outputs": [
        {
          "output_type": "stream",
          "text": [
            "id column unique values:\n",
            "\n",
            "[7129300520 5631500400 2487200875 ... 1523300141  291310100 1523300157]\n",
            "\n",
            "\n",
            "price column unique values:\n",
            "\n",
            "[221900. 180000. 604000. ... 507250. 610685. 402101.]\n",
            "\n",
            "\n",
            "bedrooms column unique values:\n",
            "\n",
            "[3 2 4 5]\n",
            "\n",
            "\n",
            "bathrooms column unique values:\n",
            "\n",
            "[1.   3.   2.   2.25 1.5  2.5  1.75 2.75 3.25 3.5  0.75 1.25]\n",
            "\n",
            "\n",
            "sqft_living column unique values:\n",
            "\n",
            "[1180  770 1960 1680 1715 1060 1780 1890 1160 1370 1810 1600 1200 1250\n",
            " 1620 2270 1070 2450 1710 1400 1520 2570 2320 1190 2330 1090 2060 2360\n",
            " 1220 2620 3595 1570 1280 3160  990 2290 1410 1980 2730 2830 2250 2420\n",
            " 1850 1260 2519 1540 1660 2770 2240 1000 2750 2380 1760 1040 2350 1900\n",
            " 2020  960 2140 2660 1610 1030 1580 2070 2340 1670 1240 2030 2310 1590\n",
            "  880 1450 2100 2910 2160 2010 2590 1170 1110 2820 2550 1430 1360 2640\n",
            " 1910 2680 1340 1120 1970 1350 2440 1050 3130 1490 1330 2230 1650 2180\n",
            " 1690 2150  860 1940 1010 1300  910 2480  900 1550 1270 1720  850 1320\n",
            " 1750 2220 1510 1480 2280  830 2740  720 1560 3360 1730 2460 1700 2653\n",
            " 2390 2600 2720 2500 1640 3280 2650 2040 2200 1920 1800 3320 1950 1470\n",
            "  800 3150 2050 2370 2490 2930 1420 3040 2580 1390 2760 1820 2110 2990\n",
            " 2090 3450 2130 2510 2120 3300 1530  940 1290 1930 2000 1860  950 1440\n",
            " 2610 1870 2260  980 3390  890 2810 1230 3180 1210 2430 1100 2400 2530\n",
            " 2300 1790  750 2870 2080 1840 1830 2560 1805 1384 1460 3590 2540 1880\n",
            " 3000 1255 2630 1500 2470  820 2210 1130 2520 2156 2940 2170 1150 2710\n",
            " 1740 1630  970 2980 3460 1020 1140 2190 1654 2790 2208 3070  930  740\n",
            " 1422 1380  920 1080  870 3410 2960 3030 1310 1770  700 3060 2800  790\n",
            " 2963 2950 3370 3230 3100 3940 1981 2840 2495 2403 2900  760 1990 3020\n",
            " 3190 2341 2690 3260 1646 3010 3680  710 3550 3504 1782 2850 3120  840\n",
            " 3220 3362  620 2920 3110 2005  670 3350 3540 3080 2700 3090 1552 2303\n",
            " 3270  810 3690  680 2195 2496 3200 2153 3600 3700  780 1714 2201 2970\n",
            " 3527 2835 3400 2670 3310 3490 3500  640 1295 2305 1553 1657 3001 3210\n",
            " 3140 2410 3860 3930 1159 3290 3052 1639  730 2860 2506 2154 1995 1689\n",
            " 3470 2890 2395 3050 2880 3240 2483 3520 3760 1256 2605 1747 3740 1678\n",
            " 1833 1414 3597 2641 2518 3710 3910 2074 2038 2329 1264 1095 1594 2844\n",
            "  902 2811 2168 1445 3670  610 2095 3380 2344 3570 3620 1088 2780 1175\n",
            " 3420 1516 3840 3780 1122 3340 3330 4030 1315 2286 1811 2441 2163 2795\n",
            " 4170  600  690 1068 1509 1954 3480 1129 3510 1996  560 2031 1952 2434\n",
            " 3316 2331 2497 1651 1961 2507 3610 2145 1982 3440 1463 3830 1358 1864\n",
            " 3660 4060 1465 2382 2672  660 2115 1078 3650 1975 1365 3990 3430 1788\n",
            " 1092 1322 1904 2192 3560 2008 3170 3920 2166 1352 2257 2093 1677 1798\n",
            " 2588 3250 3850 3800 4040 2007 3002 2155 2014 2665 2105 3672 3004 2689\n",
            " 2678 2755 2414  901 2068 2807 2643 2181 1776 1435 3045 2717 2905 2375\n",
            " 1964 1785 1814  809 1802 2692  590 2044 1212 3555 1502 1615 1484  650\n",
            " 1765 3530  630 1453 1381 2793 2475 1936  998 2575 3276 1584 2393 2029\n",
            " 1072 1984  962 2423 2052 3640 2538 2437 2789 2906 2242 2196 1847 2658\n",
            " 2655 1233 2223 1427 3444 2448 1489 1278 3202 1347 1481 2311 2544 2584\n",
            " 2217 1921 2612 3273 1494 2598 3284 3266 1076 2594 2718 1794 2481 2876\n",
            " 1413 1876 2413 1767  982 2547 1834 2514 2134 1741 2798 1852 2099 3216\n",
            " 2891 2283 2701 2245 1658  893 2009 3065 1861 2815 1571 1405 1601 3172\n",
            " 3223 1608 2229 3135 1408 2714 1763 1232 2502 2424 3720 1296 1914  988\n",
            " 3056 2267 1131 2796 1812 2233 1578 1084 2025 1239 2568 1528 2628 2185\n",
            " 1769 2478 2669 1912 2828 2425 3730 2406 1626 2056 2456 1934 3192 2927\n",
            " 2529 1987 3361 2578 2738 1061 2542 1889 1451 1983 2313 1824 1909 2301\n",
            " 3274 1108 2864 2716 1572 1458 2632 3281 2398 1867 1613 3217 3630 2623\n",
            "  894 1606 2244 2026 2238 2517 2708 2555 1495 1522 1496 4200 2531 3087\n",
            " 1425]\n",
            "\n",
            "\n",
            "sqft_lot column unique values:\n",
            "\n",
            "[ 5650 10000  5000 ...  5813  2388  1076]\n",
            "\n",
            "\n",
            "floors column unique values:\n",
            "\n",
            "[1.  2.  1.5 3.  2.5 3.5]\n",
            "\n",
            "\n",
            "waterfront column unique values:\n",
            "\n",
            "[0]\n",
            "\n",
            "\n",
            "view column unique values:\n",
            "\n",
            "[0]\n",
            "\n",
            "\n",
            "condition column unique values:\n",
            "\n",
            "[3 5 4 2]\n",
            "\n",
            "\n",
            "grade column unique values:\n",
            "\n",
            "[7 6 8 9]\n",
            "\n",
            "\n",
            "sqft_above column unique values:\n",
            "\n",
            "[1180  770 1050 1680 1715 1060 1890  860 1370 1810 1600 1200 1250 2270\n",
            " 1070 2450 1710 1750 1400  790 2570 2320 1190 1510 1090 1280 2360  890\n",
            " 2620 3595 1570  920 3160  990 2290 1000 2130 2830 2250 2420 1850 1260\n",
            " 2519 1540 1110 1770 2240 2380  880 1040  910 2350 1900 1010  960 2660\n",
            " 1980 1610  765 1290 1960 1160 1270 1440 1460 1170 1240 2030 2310  700\n",
            " 1590 1450 1720 2910 1360 2070 1390 2140 1340 1550  940 1380 2370  980\n",
            " 1620 1760 1030 1780 2680 1670 2590  820 1320 1220 2440 1100 1330 1430\n",
            " 1420 1690 1130 2150 1940  900 1630  850 1350 2020 1120 1480 2280  830\n",
            " 1300 2740  720 2010 3360  800 1730 2460 1700 2653 1740 2720 1140 2160\n",
            " 2650  970 2040 2180 2220 3150 2050 2490 1860 2580 1910 2760 1820 2990\n",
            " 3450 1580 2510 1410 2120 3300 1500 1530 1930 2000  950 2200 1920 1490\n",
            " 1870 2260 2390 3390 1950 2810  870 3180 1210 2600 2400 1520 3040 1970\n",
            " 1560 1790  750 2870 1840 1830 2550 1805 1384 2060 1080 2110 3590 1230\n",
            " 2540 1880 1660 1150 1470 1640 1255 2630 2730 2470  670 2340 2210 2090\n",
            " 2156 1020 2940 2170 2640 2710 1800 2100  840 3460 1654 2790 1310 2208\n",
            "  930  740 1422 2430 2610  490 2080  730 3410  600 2960 3030  780 2230\n",
            " 2500 3060 2800 2530 1650 2963 2190 2950 3370 3100 2820 2330 3110 1981\n",
            " 2495 2403 2900  760 3020 3190 2341 2690 2520 3260 1646 3010  610  710\n",
            " 3504 1782 2850  810 3220 3362  620 2920 1990 1605 2770 2300 2700 3090\n",
            " 1552 2303 2860 3270 2980 3070  680 2496 3200 3230 2153 2890 1714 2201\n",
            " 2560 2970 3527 2835 1427 3400 2670 3000 2750 3310 3320 3490  640 1105\n",
            " 2305 2410 1553 1657 3001  480 3210 3140 2930 3550 1159 3290 3052 3120\n",
            " 1479 3280 2506 2480 2154 1995 1689 3470 2840 2395 3240 2483 3520 1256\n",
            " 3130 1355 1747 3740 1678 1833 1414 3597 2641 2518 3710 2074 2038 3080\n",
            " 2329 1264 1095 1088 2844  902 2811  660 3700 2168 2095 3620 2780 1175\n",
            "  998 1122 3340 3330 1315 2286 3570 1811 2441 2163 2795  690 1068 3050\n",
            " 1509 1954 3480 1129  580 3510 1996  560 2031 1652 3690 2434 3316 2331\n",
            " 2497 2880 3170 1341 1961 2507 3610 3350 2145  650 1982 3440 1463 1358\n",
            " 1864 3660 2382 1295 2115 1078 3650 1975 3430 1788 1092 3420 1087 1904\n",
            " 2192 3560 1216  570 2166 1352 1363 2093 1677 1798 2588  630 3250  995\n",
            " 2007 3002 2155 2014 2665 2105 3006 3004 2689 2678 2755 2414  901 2068\n",
            " 3380 2807 2643 2181 1604 1435 3045 2717 2905 2375 1964 1595  944  809\n",
            " 3670 1802 2692 1544  590 2044 1212 3555 1502 1615 1484 1765 1453 1381\n",
            " 3500 2793 2475 1936  798 2575 3276 1584 2393 2029 1072 1785 1984  962\n",
            " 2423 2052 3640 2538 2437 2789 2906 2242 2196 1847 2658 2655  963 2223\n",
            " 2714 2448 1489 1116 1002 3202 1347 1481 2311 2544 2584 2217 1921 2612\n",
            " 2671 1494 2598 3540 3284 3266 1076 2594 3600 2718 1794 2481 1413 1876\n",
            " 2413 1767  806 2547 1834 2024 1165 2134 1741 2798 1852 2099 3216 1094\n",
            " 2891 2283 2701 2245 1658  893 2009 3065 1578 2815 1571 1536 3172 3223\n",
            " 1608 2229 3135 1408 1763 1232 2502 2424 3720 1296 1914  988 3056 2267\n",
            " 1131 2796 1812 2233 1084 2025 1239 2568 1528 2628 2185 1769 2478 2669\n",
            " 1912 2828 2425 1446 2406 1419 2056 1144 2456 1934 3192 2927 2529 1987\n",
            " 3361 2578 2738 1061 2542 1889 1451 1983 2313 1824 1322 1766 2301 3274\n",
            " 1108 2864 2716 1572 2632 3281 2398 1867 1613 2587 2623  894 1606 2244\n",
            " 2026 2238 2517 2708 2555 1405 1248 2531 3087 1425]\n",
            "\n",
            "\n",
            "sqft_basement column unique values:\n",
            "\n",
            "[   0  910  730  300  760  700  820  780  330  360  410  990  600  550\n",
            " 1000  500  880 1010  240  790  265  290  800  540  560  380  570  620\n",
            " 1250 1270  120  650  180  450 1020 1030  750  400 1070  490  390  430\n",
            "  840  850  210  440  860 1180  200 1150  680  530  970 1080  960 1100\n",
            "  870 1200  770  720  660 1220  420  690  350 1040  630  160  950  460\n",
            "   50  740  710  340  470  370  640  140  280  480  610  520  130  580\n",
            "  150  190  670 1380  900 1050  940  310  930 1110  510 1330  810  920\n",
            " 1240  890  250 1300 1230  170  830 1340 1160  220 1140  260 1280  100\n",
            " 1060 1170  270 1120  320  110   90 1320  980 1135 1350 1130  590  243\n",
            " 1210 1260   60 1400 1290 1310 1370  230   70 1360  506  145 1190  784\n",
            "  518 1390 1090   80  415  652   40  235  792  894  435  666  172  414\n",
            "  276  602  516  176  225  266  283   65   10  295  207  143  508   20\n",
            "  274  248]\n",
            "\n",
            "\n",
            "yr_built column unique values:\n",
            "\n",
            "[1955 1933 1965 1987 1995 1963 1960 2003 1942 1977 1900 1994 1916 1921\n",
            " 1969 1947 1985 1941 1915 1909 1948 2005 1929 1981 1904 1996 2000 2014\n",
            " 1922 1959 1966 1953 1950 1927 2008 1991 1954 1973 1979 1925 1968 1972\n",
            " 1956 1992 1964 1952 1961 2006 1988 1962 1939 1967 1975 1910 1978 1984\n",
            " 1905 1980 2010 1945 1924 1990 1926 2004 1986 1923 1976 1999 1901 1949\n",
            " 1993 1920 2007 1943 1983 1940 1918 2001 1974 1911 1937 1908 1931 1998\n",
            " 1913 2013 1957 2002 1997 1958 2012 1971 1989 2011 1917 1946 1951 1944\n",
            " 1907 1902 2009 1970 1982 1930 1938 1912 1919 1932 1914 1928 1906 1936\n",
            " 1903 1934 1935 2015]\n",
            "\n",
            "\n",
            "yr_renovated column unique values:\n",
            "\n",
            "[0]\n",
            "\n",
            "\n",
            "zipcode column unique values:\n",
            "\n",
            "[98178 98028 98136 98074 98003 98198 98146 98038 98115 98107 98019 98103\n",
            " 98002 98133 98092 98030 98119 98112 98052 98027 98117 98058 98001 98056\n",
            " 98053 98023 98007 98148 98105 98042 98059 98166 98122 98144 98034 98125\n",
            " 98008 98116 98118 98032 98102 98168 98065 98029 98006 98109 98177 98126\n",
            " 98040 98155 98108 98031 98024 98106 98072 98005 98033 98004 98055 98011\n",
            " 98075 98188 98010 98199 98022 98077 98014 98070 98039]\n",
            "\n",
            "\n",
            "lat column unique values:\n",
            "\n",
            "[47.5112 47.7379 47.5208 ... 47.5252 47.5869 47.3339]\n",
            "\n",
            "\n",
            "long column unique values:\n",
            "\n",
            "[-122.257 -122.233 -122.393 -122.045 -122.327 -122.315 -122.337 -122.031\n",
            " -122.292 -122.394 -121.962 -122.343 -122.21  -122.306 -122.341 -122.169\n",
            " -122.166 -122.172 -122.218 -122.36  -122.314 -122.304 -122.11  -122.07\n",
            " -122.357 -122.368 -122.375 -122.157 -122.362 -122.282 -122.18  -122.027\n",
            " -122.016 -122.364 -122.175 -121.977 -122.371 -122.151 -122.301 -122.322\n",
            " -122.384 -122.369 -122.281 -122.29  -122.114 -122.122 -122.149 -122.335\n",
            " -122.344 -122.32  -122.297 -122.179 -122.287 -122.036 -122.125 -122.34\n",
            " -122.008 -122.291 -122.31  -122.365 -122.189 -122.199 -122.194 -122.387\n",
            " -122.372 -122.351 -122.386 -122.277 -122.378 -122.133 -122.38  -122.109\n",
            " -122.053 -122.349 -122.347 -122.248 -122.303 -122.294 -122.226 -122.266\n",
            " -122.098 -122.39  -122.352 -121.85  -122.152 -122.054 -121.998 -122.299\n",
            " -122.381 -122.358 -122.128 -122.171 -122.174 -122.353 -122.336 -122.359\n",
            " -122.176 -122.118 -122.193 -122.224 -122.168 -122.231 -122.331 -122.374\n",
            " -122.339 -122.308 -122.307 -122.376 -122.2   -122.039 -122.102 -122.379\n",
            " -122.043 -122.153 -122.191 -122.184 -122.219 -122.3   -122.312 -122.165\n",
            " -122.37  -122.158 -122.047 -122.284 -122.017 -122.268 -122.367 -122.217\n",
            " -122.023 -122.373 -122.013 -122.214 -122.034 -122.164 -121.899 -122.319\n",
            " -122.216 -122.395 -122.213 -122.345 -122.278 -122.111 -122.27  -122.178\n",
            " -122.147 -122.302 -122.323 -122.255 -122.206 -122.272 -122.23  -122.144\n",
            " -122.143 -122.181 -122.154 -122.311 -122.    -122.298 -122.058 -122.333\n",
            " -122.252 -122.052 -122.354 -121.875 -122.24  -122.173 -122.222 -122.28\n",
            " -122.137 -122.141 -122.029 -122.182 -122.19  -122.329 -121.959 -122.095\n",
            " -122.146 -122.35  -122.241 -122.305 -122.385 -122.032 -122.402 -122.188\n",
            " -121.982 -122.161 -122.046 -122.156 -122.33  -122.197 -122.318 -122.271\n",
            " -122.275 -122.289 -122.082 -122.211 -122.262 -122.121 -122.221 -122.234\n",
            " -122.089 -122.167 -122.107 -122.042 -122.062 -122.264 -122.087 -122.215\n",
            " -121.88  -121.864 -122.363 -122.139 -122.177 -122.056 -122.316 -122.021\n",
            " -122.16  -122.205 -122.186 -122.198 -122.256 -122.075 -122.026 -122.259\n",
            " -122.015 -122.212 -122.229 -121.86  -122.06  -122.251 -122.317 -121.996\n",
            " -122.018 -122.084 -122.001 -122.024 -122.309 -122.113 -122.391 -122.239\n",
            " -122.396 -122.326 -122.13  -122.269 -121.853 -122.05  -122.346 -121.826\n",
            " -122.267 -122.159 -122.286 -122.202 -122.321 -121.882 -122.101 -122.185\n",
            " -122.195 -122.124 -122.183 -122.025 -122.22  -122.131 -122.162 -121.965\n",
            " -122.201 -122.366 -122.073 -122.313 -122.02  -122.355 -122.08  -122.15\n",
            " -122.279 -122.295 -122.356 -122.115 -122.044 -121.867 -122.01  -122.011\n",
            " -122.225 -121.983 -122.348 -122.123 -122.127 -122.033 -122.361 -122.325\n",
            " -122.136 -122.209 -122.049 -122.005 -122.276 -122.288 -122.203 -122.076\n",
            " -122.037 -122.207 -122.1   -122.263 -122.192 -121.915 -122.283 -122.273\n",
            " -122.059 -122.383 -121.989 -122.019 -122.208 -121.878 -122.324 -122.328\n",
            " -122.03  -122.057 -122.338 -122.388 -122.145 -122.265 -122.332 -122.399\n",
            " -122.397 -122.25  -122.014 -122.196 -122.293 -122.12  -122.035 -122.066\n",
            " -122.14  -122.296 -122.112 -122.258 -122.022 -122.004 -122.097 -122.17\n",
            " -121.908 -122.086 -122.012 -122.163 -121.854 -122.389 -122.392 -122.236\n",
            " -122.117 -121.981 -122.116 -122.285 -122.129 -122.342 -121.978 -121.993\n",
            " -122.377 -121.879 -122.187 -121.98  -122.002 -122.138 -122.132 -122.235\n",
            " -122.126 -122.072 -122.148 -122.108 -121.995 -122.401 -121.888 -122.26\n",
            " -122.382 -122.403 -122.243 -122.405 -121.973 -122.228 -122.055 -122.223\n",
            " -122.398 -122.4   -121.912 -121.903 -121.997 -122.064 -121.958 -122.232\n",
            " -122.104 -122.204 -122.048 -122.007 -122.155 -121.833 -122.227 -122.041\n",
            " -122.119 -121.999 -122.242 -122.079 -122.071 -122.245 -122.244 -121.861\n",
            " -121.974 -122.083 -122.094 -122.103 -122.253 -121.898 -122.142 -122.261\n",
            " -122.074 -122.247 -122.051 -122.028 -121.827 -121.966 -121.871 -122.09\n",
            " -122.099 -121.992 -122.406 -122.274 -122.077 -122.334 -121.985 -122.415\n",
            " -122.093 -122.135 -122.092 -121.877 -121.968 -121.976 -121.902 -122.246\n",
            " -122.134 -122.414 -122.061 -121.881 -122.068 -121.93  -122.085 -121.957\n",
            " -122.408 -122.462 -122.43  -122.456 -121.987 -122.091 -121.916 -122.41\n",
            " -121.972 -122.096 -122.409 -122.088 -122.404 -121.99  -122.238 -121.89\n",
            " -121.988 -121.905 -122.04  -121.883 -122.069 -122.038 -121.889 -121.847\n",
            " -122.105 -122.006 -121.97  -122.411 -122.003 -121.868 -122.432 -121.979\n",
            " -121.986 -122.106 -121.969 -121.984 -121.967 -121.991 -121.994 -121.876\n",
            " -121.964 -122.009 -122.254 -121.918 -122.407 -122.237 -121.894 -122.446\n",
            " -121.855 -121.911 -122.081 -121.913 -121.963 -122.078 -121.886 -121.834\n",
            " -122.413 -121.887 -121.848 -122.412 -121.922 -122.063 -121.87  -121.866\n",
            " -122.249 -121.863 -121.975 -121.961 -121.893 -121.846 -121.821 -122.472\n",
            " -122.065 -121.921 -122.067 -121.828 -121.971 -121.874 -121.869 -121.884\n",
            " -122.416 -121.907 -122.433 -121.856 -121.92  -121.851 -121.897 -121.901\n",
            " -121.885 -122.461 -121.872 -121.849 -121.909 -121.955 -121.829 -122.464\n",
            " -121.841 -121.873 -121.842 -121.862 -121.838]\n",
            "\n",
            "\n",
            "sqft_living15 column unique values:\n",
            "\n",
            "[1340 2720 1360 1800 2238 1650 1780 2390 1330 1370 1890 1610 1060 1280\n",
            " 1400 2240 1220 2200 1030 1760 1860 1520 2630 2580 1390 1460 1570 2020\n",
            " 1730 1290 2620 2470 3625 1580 3050 1228 2680  970 1190 1410 1480 2730\n",
            " 1950 2250 2690 2270 2500 1440 2221 1010 1640 1510 2420 1680  890 1130\n",
            " 2350 1870 1720 1850 1590 1900 1980 1350 1750 1160 1240 1270 1940 1380\n",
            " 1540 1620 1880 1710 2700 2090 1700 1970 1420 2060 1690 1550 1170 2820\n",
            " 1560 2230 1450 1500 1200 2920 2480 1770 1930 2260 1670 2290 1050 2190\n",
            " 2030 1230 2550 1300 1430 2770 2750 1250 1630 2520 2130 1100 1320 2120\n",
            " 2080 1960 2280 1150  830 1260 2570 2010 3060 1910 2990 1660 1600 2070\n",
            " 2653 2410 2300 2320 1740 2400 2140 2510 2370 2150 1310 1820 3470 2380\n",
            " 1020 2040 2610 1810 2860 2450 3180 2000 2110 2360 2310 1490 2077 1920\n",
            " 2100 3390 2530 3030 2830  940 2740 1070 2050 1830 1080 2095 1000 2170\n",
            " 2600 1408 1530 2180  950 1307 1110 2870 2430 2330 1210 2440 1708 2210\n",
            " 1180 3100 3150 2160 2490 1120 2810 3260 1654 1470 1840 2590 1365  980\n",
            " 1677 1140 1502  990 1525 2960  760 2790 3240 1790  960 2800 2880 2305\n",
            " 1990 2665 2710 3370 1509 3080 1981 2434  860 2242 2340 2900 2950 2670\n",
            " 2850 3010 2220 1975 2890 2460  740 2640 3110 2660 1429 3380  820 1090\n",
            " 3170  620 2540 2650  840  870 2970 3159 2780 2980  920 1566 3200  850\n",
            " 2760 2496 1040 3620 1714 3040 3440 3130 2144 1494 1357 3140 1458 1295\n",
            " 3090 1439 2091 2940 3280  900  800 3450 2315 1564 2767 3070 3210 1264\n",
            " 1404 3220 1459 3160 2028 3420 1943 2641 2840 1309 2517 3020 1802 2910\n",
            " 1466 1414 3193 1845 1745 1884 2560 2406 3000 2930 2848 2634 3490 3120\n",
            " 2049 3640 1536 2273  930 3430  910 1665 3340 3550 3630 3460 1855 1078\n",
            " 3360 2344 1098 1175 1188 3400 3300 3310 2518  880 3320 3250 2488 1894\n",
            " 2052  810 1528 3520 3610 1811 2876 1805 2724 1216  750 1492 1364 3410\n",
            "  780 1303 2005 2583  790 1638 2441 1961  770 1664 1484 1358 2106 1834\n",
            " 2014  710 1934 1518 1302 2622 2619 2382 1336 1468 3190 1571 1138 3510\n",
            " 2165 1678 1984 1914 2246 2109 1767 2054 2474 3590 1862 1352 2901 1815\n",
            " 2236 2253 1356 2403 1137 1256 2189 2566 1282 2155 1056 2389 1168  806\n",
            " 1369 2405 3350 2083 1425 1442 3480 2333 1321 3045 1546 2697 3230 2076\n",
            " 1757 2075 2667 1092 1716 1792 1125 1463  670 2336 3557 1377 2019 2615\n",
            "  720 1765 1554 1381 1445 2793 2475  998 2575 1398 1584 2439 2197 2029\n",
            " 1443 1691 2495 3570 2437 2547 2009 3560 1847  700 1346 2578 2879 2255\n",
            " 3290 2815 1608  690 2425 1481 2458 2358 1921 2419 2996 2502 1798 2555\n",
            " 3087 1076 2981 2363 1763 1876 1949 2598 1979 1415 2002 2574 2166 2099\n",
            " 2154 1522 1544 2648 1658 2755 2798 1405 2704 3600 2738 3008 2586 2873\n",
            " 1232 2597 2424 2516 1537 1128 2849 1399 3330 2056 1131 3540 1569 2381\n",
            " 1084 2304 2297 2279 2303 2669 2513 2725 1955 2478 1919 1813 2533 3270\n",
            " 2316 2647 2156 2612 2323 2409 1285 2616 1639 1427 1516 2456 3500 2844\n",
            " 1495 2594 2604 1268 2927]\n",
            "\n",
            "\n",
            "sqft_lot15 column unique values:\n",
            "\n",
            "[5650 8062 5000 ... 5731 1509 2007]\n",
            "\n",
            "\n"
          ],
          "name": "stdout"
        }
      ]
    },
    {
      "cell_type": "code",
      "metadata": {
        "id": "IPwKsUe1nBeN"
      },
      "source": [
        "#dropping irrelevant columns with id and those with zero values\n",
        "house.drop(['id','view', 'yr_renovated'],inplace=True,axis=1)"
      ],
      "execution_count": null,
      "outputs": []
    },
    {
      "cell_type": "markdown",
      "metadata": {
        "id": "sDU0l7w4reop"
      },
      "source": [
        "##UNIVARIATE ANALYSIS"
      ]
    },
    {
      "cell_type": "code",
      "metadata": {
        "colab": {
          "base_uri": "https://localhost:8080/",
          "height": 320
        },
        "id": "_S_veBInJs50",
        "outputId": "b028e91e-8405-4d2f-f7d4-5b5891b89e19"
      },
      "source": [
        "house.describe()"
      ],
      "execution_count": null,
      "outputs": [
        {
          "output_type": "execute_result",
          "data": {
            "text/html": [
              "<div>\n",
              "<style scoped>\n",
              "    .dataframe tbody tr th:only-of-type {\n",
              "        vertical-align: middle;\n",
              "    }\n",
              "\n",
              "    .dataframe tbody tr th {\n",
              "        vertical-align: top;\n",
              "    }\n",
              "\n",
              "    .dataframe thead th {\n",
              "        text-align: right;\n",
              "    }\n",
              "</style>\n",
              "<table border=\"1\" class=\"dataframe\">\n",
              "  <thead>\n",
              "    <tr style=\"text-align: right;\">\n",
              "      <th></th>\n",
              "      <th>price</th>\n",
              "      <th>bedrooms</th>\n",
              "      <th>bathrooms</th>\n",
              "      <th>sqft_living</th>\n",
              "      <th>sqft_lot</th>\n",
              "      <th>floors</th>\n",
              "      <th>waterfront</th>\n",
              "      <th>condition</th>\n",
              "      <th>grade</th>\n",
              "      <th>sqft_above</th>\n",
              "      <th>sqft_basement</th>\n",
              "      <th>yr_built</th>\n",
              "      <th>zipcode</th>\n",
              "      <th>lat</th>\n",
              "      <th>long</th>\n",
              "      <th>sqft_living15</th>\n",
              "      <th>sqft_lot15</th>\n",
              "    </tr>\n",
              "  </thead>\n",
              "  <tbody>\n",
              "    <tr>\n",
              "      <th>count</th>\n",
              "      <td>1.493100e+04</td>\n",
              "      <td>14931.000000</td>\n",
              "      <td>14931.000000</td>\n",
              "      <td>14931.000000</td>\n",
              "      <td>14931.000000</td>\n",
              "      <td>14931.000000</td>\n",
              "      <td>14931.0</td>\n",
              "      <td>14931.000000</td>\n",
              "      <td>14931.000000</td>\n",
              "      <td>14931.000000</td>\n",
              "      <td>14931.000000</td>\n",
              "      <td>14931.000000</td>\n",
              "      <td>14931.000000</td>\n",
              "      <td>14931.000000</td>\n",
              "      <td>14931.000000</td>\n",
              "      <td>14931.000000</td>\n",
              "      <td>14931.000000</td>\n",
              "    </tr>\n",
              "    <tr>\n",
              "      <th>mean</th>\n",
              "      <td>4.383980e+05</td>\n",
              "      <td>3.261938</td>\n",
              "      <td>1.972105</td>\n",
              "      <td>1814.005090</td>\n",
              "      <td>6988.593798</td>\n",
              "      <td>1.471268</td>\n",
              "      <td>0.0</td>\n",
              "      <td>3.420267</td>\n",
              "      <td>7.380082</td>\n",
              "      <td>1585.053312</td>\n",
              "      <td>228.951778</td>\n",
              "      <td>1971.721854</td>\n",
              "      <td>98079.756949</td>\n",
              "      <td>47.558871</td>\n",
              "      <td>-122.230141</td>\n",
              "      <td>1796.650660</td>\n",
              "      <td>6868.036300</td>\n",
              "    </tr>\n",
              "    <tr>\n",
              "      <th>std</th>\n",
              "      <td>1.800721e+05</td>\n",
              "      <td>0.772803</td>\n",
              "      <td>0.646070</td>\n",
              "      <td>614.579034</td>\n",
              "      <td>3355.886692</td>\n",
              "      <td>0.547917</td>\n",
              "      <td>0.0</td>\n",
              "      <td>0.647103</td>\n",
              "      <td>0.804876</td>\n",
              "      <td>601.412165</td>\n",
              "      <td>353.231478</td>\n",
              "      <td>29.247428</td>\n",
              "      <td>53.482436</td>\n",
              "      <td>0.142099</td>\n",
              "      <td>0.123703</td>\n",
              "      <td>507.192667</td>\n",
              "      <td>2987.930774</td>\n",
              "    </tr>\n",
              "    <tr>\n",
              "      <th>min</th>\n",
              "      <td>8.200000e+04</td>\n",
              "      <td>2.000000</td>\n",
              "      <td>0.750000</td>\n",
              "      <td>560.000000</td>\n",
              "      <td>520.000000</td>\n",
              "      <td>1.000000</td>\n",
              "      <td>0.0</td>\n",
              "      <td>2.000000</td>\n",
              "      <td>6.000000</td>\n",
              "      <td>480.000000</td>\n",
              "      <td>0.000000</td>\n",
              "      <td>1900.000000</td>\n",
              "      <td>98001.000000</td>\n",
              "      <td>47.189500</td>\n",
              "      <td>-122.472000</td>\n",
              "      <td>620.000000</td>\n",
              "      <td>651.000000</td>\n",
              "    </tr>\n",
              "    <tr>\n",
              "      <th>25%</th>\n",
              "      <td>3.000000e+05</td>\n",
              "      <td>3.000000</td>\n",
              "      <td>1.500000</td>\n",
              "      <td>1350.000000</td>\n",
              "      <td>4690.000000</td>\n",
              "      <td>1.000000</td>\n",
              "      <td>0.0</td>\n",
              "      <td>3.000000</td>\n",
              "      <td>7.000000</td>\n",
              "      <td>1140.000000</td>\n",
              "      <td>0.000000</td>\n",
              "      <td>1952.000000</td>\n",
              "      <td>98033.000000</td>\n",
              "      <td>47.457550</td>\n",
              "      <td>-122.333000</td>\n",
              "      <td>1430.000000</td>\n",
              "      <td>4800.000000</td>\n",
              "    </tr>\n",
              "    <tr>\n",
              "      <th>50%</th>\n",
              "      <td>4.050000e+05</td>\n",
              "      <td>3.000000</td>\n",
              "      <td>2.000000</td>\n",
              "      <td>1740.000000</td>\n",
              "      <td>7020.000000</td>\n",
              "      <td>1.000000</td>\n",
              "      <td>0.0</td>\n",
              "      <td>3.000000</td>\n",
              "      <td>7.000000</td>\n",
              "      <td>1430.000000</td>\n",
              "      <td>0.000000</td>\n",
              "      <td>1974.000000</td>\n",
              "      <td>98072.000000</td>\n",
              "      <td>47.569700</td>\n",
              "      <td>-122.264000</td>\n",
              "      <td>1710.000000</td>\n",
              "      <td>7172.000000</td>\n",
              "    </tr>\n",
              "    <tr>\n",
              "      <th>75%</th>\n",
              "      <td>5.470000e+05</td>\n",
              "      <td>4.000000</td>\n",
              "      <td>2.500000</td>\n",
              "      <td>2210.000000</td>\n",
              "      <td>8925.000000</td>\n",
              "      <td>2.000000</td>\n",
              "      <td>0.0</td>\n",
              "      <td>4.000000</td>\n",
              "      <td>8.000000</td>\n",
              "      <td>1910.000000</td>\n",
              "      <td>450.000000</td>\n",
              "      <td>1999.000000</td>\n",
              "      <td>98118.000000</td>\n",
              "      <td>47.683500</td>\n",
              "      <td>-122.152500</td>\n",
              "      <td>2090.000000</td>\n",
              "      <td>8649.500000</td>\n",
              "    </tr>\n",
              "    <tr>\n",
              "      <th>max</th>\n",
              "      <td>1.120000e+06</td>\n",
              "      <td>5.000000</td>\n",
              "      <td>3.500000</td>\n",
              "      <td>4200.000000</td>\n",
              "      <td>19141.000000</td>\n",
              "      <td>3.500000</td>\n",
              "      <td>0.0</td>\n",
              "      <td>5.000000</td>\n",
              "      <td>9.000000</td>\n",
              "      <td>3740.000000</td>\n",
              "      <td>1400.000000</td>\n",
              "      <td>2015.000000</td>\n",
              "      <td>98199.000000</td>\n",
              "      <td>47.777600</td>\n",
              "      <td>-121.821000</td>\n",
              "      <td>3640.000000</td>\n",
              "      <td>17550.000000</td>\n",
              "    </tr>\n",
              "  </tbody>\n",
              "</table>\n",
              "</div>"
            ],
            "text/plain": [
              "              price      bedrooms  ...  sqft_living15    sqft_lot15\n",
              "count  1.493100e+04  14931.000000  ...   14931.000000  14931.000000\n",
              "mean   4.383980e+05      3.261938  ...    1796.650660   6868.036300\n",
              "std    1.800721e+05      0.772803  ...     507.192667   2987.930774\n",
              "min    8.200000e+04      2.000000  ...     620.000000    651.000000\n",
              "25%    3.000000e+05      3.000000  ...    1430.000000   4800.000000\n",
              "50%    4.050000e+05      3.000000  ...    1710.000000   7172.000000\n",
              "75%    5.470000e+05      4.000000  ...    2090.000000   8649.500000\n",
              "max    1.120000e+06      5.000000  ...    3640.000000  17550.000000\n",
              "\n",
              "[8 rows x 17 columns]"
            ]
          },
          "metadata": {
            "tags": []
          },
          "execution_count": 15
        }
      ]
    },
    {
      "cell_type": "code",
      "metadata": {
        "colab": {
          "base_uri": "https://localhost:8080/"
        },
        "id": "Gl9m14Otn0em",
        "outputId": "2bc43436-aa16-4177-93ef-d2c339e7e6fb"
      },
      "source": [
        "house.columns"
      ],
      "execution_count": null,
      "outputs": [
        {
          "output_type": "execute_result",
          "data": {
            "text/plain": [
              "Index(['price', 'bedrooms', 'bathrooms', 'sqft_living', 'sqft_lot', 'floors',\n",
              "       'waterfront', 'condition', 'grade', 'sqft_above', 'sqft_basement',\n",
              "       'yr_built', 'zipcode', 'lat', 'long', 'sqft_living15', 'sqft_lot15'],\n",
              "      dtype='object')"
            ]
          },
          "metadata": {
            "tags": []
          },
          "execution_count": 16
        }
      ]
    },
    {
      "cell_type": "code",
      "metadata": {
        "colab": {
          "base_uri": "https://localhost:8080/"
        },
        "id": "WAO-VFbkaC-B",
        "outputId": "8116347e-142e-4ff9-fc4d-b966ebcbf70b"
      },
      "source": [
        "#Central Tendancies\n",
        "#mean\n",
        "col_names = house.columns\n",
        "for i, col_val in enumerate(col_names):\n",
        "  print('The mean of ' + str(col_val) + ' is ' + str(house[col_val].mean()))"
      ],
      "execution_count": null,
      "outputs": [
        {
          "output_type": "stream",
          "text": [
            "The mean of price is 438397.98935101466\n",
            "The mean of bedrooms is 3.2619382492800213\n",
            "The mean of bathrooms is 1.9721050164088139\n",
            "The mean of sqft_living is 1814.0050900810395\n",
            "The mean of sqft_lot is 6988.593798138102\n",
            "The mean of floors is 1.4712678320273258\n",
            "The mean of waterfront is 0.0\n",
            "The mean of condition is 3.420266559507066\n",
            "The mean of grade is 7.380081709195633\n",
            "The mean of sqft_above is 1585.0533119014133\n",
            "The mean of sqft_basement is 228.95177817962627\n",
            "The mean of yr_built is 1971.7218538610944\n",
            "The mean of zipcode is 98079.75694863037\n",
            "The mean of lat is 47.558871234344956\n",
            "The mean of long is -122.23014111579963\n",
            "The mean of sqft_living15 is 1796.6506597012926\n",
            "The mean of sqft_lot15 is 6868.036300314781\n"
          ],
          "name": "stdout"
        }
      ]
    },
    {
      "cell_type": "code",
      "metadata": {
        "colab": {
          "base_uri": "https://localhost:8080/"
        },
        "id": "erExlA2zafCQ",
        "outputId": "08f9dd67-0a0b-42ee-d31e-e808541a5764"
      },
      "source": [
        "#standard deviation\n",
        "for i, col_val in enumerate(col_names):\n",
        "  print('The standard deviation of ' + str(col_val) + ' is ' + str(house[col_val].std()))\n"
      ],
      "execution_count": null,
      "outputs": [
        {
          "output_type": "stream",
          "text": [
            "The standard deviation of price is 180072.12964506328\n",
            "The standard deviation of bedrooms is 0.772802916289596\n",
            "The standard deviation of bathrooms is 0.6460701823056729\n",
            "The standard deviation of sqft_living is 614.5790338561311\n",
            "The standard deviation of sqft_lot is 3355.886692064995\n",
            "The standard deviation of floors is 0.5479165861648201\n",
            "The standard deviation of waterfront is 0.0\n",
            "The standard deviation of condition is 0.6471032541306595\n",
            "The standard deviation of grade is 0.8048761433806246\n",
            "The standard deviation of sqft_above is 601.412164881316\n",
            "The standard deviation of sqft_basement is 353.23147770824335\n",
            "The standard deviation of yr_built is 29.247428037764497\n",
            "The standard deviation of zipcode is 53.48243632962268\n",
            "The standard deviation of lat is 0.14209875205377842\n",
            "The standard deviation of long is 0.12370272461413255\n",
            "The standard deviation of sqft_living15 is 507.192667400437\n",
            "The standard deviation of sqft_lot15 is 2987.9307738071884\n"
          ],
          "name": "stdout"
        }
      ]
    },
    {
      "cell_type": "code",
      "metadata": {
        "colab": {
          "base_uri": "https://localhost:8080/"
        },
        "id": "RviISsMyaw7b",
        "outputId": "05d93463-456e-4e71-ef5c-0030fc51142d"
      },
      "source": [
        "#skewness\n",
        "for i, col_val in enumerate(col_names):\n",
        "  print('The skewness of ' + str(col_val) + ' is ' + str(house[col_val].skew()))"
      ],
      "execution_count": null,
      "outputs": [
        {
          "output_type": "stream",
          "text": [
            "The skewness of price is 0.8310370140020662\n",
            "The skewness of bedrooms is 0.24324232660237752\n",
            "The skewness of bathrooms is -0.09337022983248325\n",
            "The skewness of sqft_living is 0.54905523385565\n",
            "The skewness of sqft_lot is 0.5290962308728061\n",
            "The skewness of floors is 0.7729301068457873\n",
            "The skewness of waterfront is 0\n",
            "The skewness of condition is 1.118996893440687\n",
            "The skewness of grade is 0.31844364997193453\n",
            "The skewness of sqft_above is 0.9654970101164653\n",
            "The skewness of sqft_basement is 1.323470063545768\n",
            "The skewness of yr_built is -0.4504943283138924\n",
            "The skewness of zipcode is 0.3210902624020126\n",
            "The skewness of lat is -0.4418156672451687\n",
            "The skewness of long is 0.6836071655081517\n",
            "The skewness of sqft_living15 is 0.7505305072234247\n",
            "The skewness of sqft_lot15 is 0.29763737231186055\n"
          ],
          "name": "stdout"
        }
      ]
    },
    {
      "cell_type": "markdown",
      "metadata": {
        "id": "Ho8gmP3hbFll"
      },
      "source": [
        "Most variables are positively skewed indicating most values are greater then the mean.Most values appear on the right side."
      ]
    },
    {
      "cell_type": "code",
      "metadata": {
        "colab": {
          "base_uri": "https://localhost:8080/"
        },
        "id": "NdmtK7mmbEII",
        "outputId": "74e7422f-75f9-435b-cec1-8b29dd9f91c7"
      },
      "source": [
        "#kurtosis\n",
        "for i, col_val in enumerate(col_names):\n",
        "  print('The kurtosis of ' + str(col_val) + ' is ' + str(house[col_val].kurt()))"
      ],
      "execution_count": null,
      "outputs": [
        {
          "output_type": "stream",
          "text": [
            "The kurtosis of price is 0.4025266273643773\n",
            "The kurtosis of bedrooms is -0.27207015505350807\n",
            "The kurtosis of bathrooms is -0.8168323710688368\n",
            "The kurtosis of sqft_living is -0.09269161512621382\n",
            "The kurtosis of sqft_lot is 0.48980883264004893\n",
            "The kurtosis of floors is -0.2185481484264904\n",
            "The kurtosis of waterfront is 0\n",
            "The kurtosis of condition is 0.3135769880171462\n",
            "The kurtosis of grade is -0.3391307916542434\n",
            "The kurtosis of sqft_above is 0.410133131253541\n",
            "The kurtosis of sqft_basement is 0.5031912749592551\n",
            "The kurtosis of yr_built is -0.6527442111398205\n",
            "The kurtosis of zipcode is -0.9544758776939739\n",
            "The kurtosis of lat is -0.8521116713897365\n",
            "The kurtosis of long is -0.26444559280496227\n",
            "The kurtosis of sqft_living15 is 0.2953301981455212\n",
            "The kurtosis of sqft_lot15 is 0.18808572904676302\n"
          ],
          "name": "stdout"
        }
      ]
    },
    {
      "cell_type": "code",
      "metadata": {
        "colab": {
          "base_uri": "https://localhost:8080/"
        },
        "id": "lgofYZ_sqET1",
        "outputId": "5a0c4746-a130-4474-fa41-affd2a85b811"
      },
      "source": [
        "house['bedrooms'].value_counts()"
      ],
      "execution_count": null,
      "outputs": [
        {
          "output_type": "execute_result",
          "data": {
            "text/plain": [
              "3    7510\n",
              "4    4406\n",
              "2    2175\n",
              "5     840\n",
              "Name: bedrooms, dtype: int64"
            ]
          },
          "metadata": {
            "tags": []
          },
          "execution_count": 21
        }
      ]
    },
    {
      "cell_type": "code",
      "metadata": {
        "colab": {
          "base_uri": "https://localhost:8080/",
          "height": 276
        },
        "id": "I0zpvPpupMv8",
        "outputId": "5ba254c6-f91f-4622-b04c-b38be9ebd99a"
      },
      "source": [
        "#Bar chart showing the frequency of the number of bedrooms\n",
        "house['bedrooms'].value_counts().plot.bar()\n",
        "plt.xlabel('number of bedrooms')\n",
        "plt.ylabel('Frequency')\n",
        "plt.show()"
      ],
      "execution_count": null,
      "outputs": [
        {
          "output_type": "display_data",
          "data": {
            "image/png": "[encoded data removed]",
            "text/plain": [
              "<Figure size 432x288 with 1 Axes>"
            ]
          },
          "metadata": {
            "tags": [],
            "needs_background": "light"
          }
        }
      ]
    },
    {
      "cell_type": "markdown",
      "metadata": {
        "id": "sL9GfIgOrVEV"
      },
      "source": [
        "##BIVARIATE ANALYSIS"
      ]
    },
    {
      "cell_type": "code",
      "metadata": {
        "colab": {
          "base_uri": "https://localhost:8080/",
          "height": 550
        },
        "id": "ipDlt6NArhgE",
        "outputId": "b36d9075-9fb0-409f-dbaa-aaa2f16f8e04"
      },
      "source": [
        "#Heat map showing correlation\n",
        "plt.figure(figsize=(12, 8))\n",
        "\n",
        "corr = house.corr()\n",
        "sns.heatmap(corr, \n",
        "            xticklabels = corr.columns.values,\n",
        "            yticklabels = corr.columns.values,\n",
        "            annot = True);"
      ],
      "execution_count": null,
      "outputs": [
        {
          "output_type": "display_data",
          "data": {
            "image/png": "[encoded data removed]",
            "text/plain": [
              "<Figure size 864x576 with 2 Axes>"
            ]
          },
          "metadata": {
            "tags": [],
            "needs_background": "light"
          }
        }
      ]
    },
    {
      "cell_type": "code",
      "metadata": {
        "id": "0wRxUhWcro5W",
        "colab": {
          "base_uri": "https://localhost:8080/",
          "height": 602
        },
        "outputId": "a51adf34-304b-4e48-99f3-608acfd76f02"
      },
      "source": [
        "corr = house.corr()\n",
        "corr"
      ],
      "execution_count": null,
      "outputs": [
        {
          "output_type": "execute_result",
          "data": {
            "text/html": [
              "<div>\n",
              "<style scoped>\n",
              "    .dataframe tbody tr th:only-of-type {\n",
              "        vertical-align: middle;\n",
              "    }\n",
              "\n",
              "    .dataframe tbody tr th {\n",
              "        vertical-align: top;\n",
              "    }\n",
              "\n",
              "    .dataframe thead th {\n",
              "        text-align: right;\n",
              "    }\n",
              "</style>\n",
              "<table border=\"1\" class=\"dataframe\">\n",
              "  <thead>\n",
              "    <tr style=\"text-align: right;\">\n",
              "      <th></th>\n",
              "      <th>price</th>\n",
              "      <th>bedrooms</th>\n",
              "      <th>bathrooms</th>\n",
              "      <th>sqft_living</th>\n",
              "      <th>sqft_lot</th>\n",
              "      <th>floors</th>\n",
              "      <th>waterfront</th>\n",
              "      <th>condition</th>\n",
              "      <th>grade</th>\n",
              "      <th>sqft_above</th>\n",
              "      <th>sqft_basement</th>\n",
              "      <th>yr_built</th>\n",
              "      <th>zipcode</th>\n",
              "      <th>lat</th>\n",
              "      <th>long</th>\n",
              "      <th>sqft_living15</th>\n",
              "      <th>sqft_lot15</th>\n",
              "    </tr>\n",
              "  </thead>\n",
              "  <tbody>\n",
              "    <tr>\n",
              "      <th>price</th>\n",
              "      <td>1.000000</td>\n",
              "      <td>0.239214</td>\n",
              "      <td>0.340767</td>\n",
              "      <td>0.514465</td>\n",
              "      <td>-0.085519</td>\n",
              "      <td>0.227441</td>\n",
              "      <td>NaN</td>\n",
              "      <td>0.084215</td>\n",
              "      <td>0.527261</td>\n",
              "      <td>0.408152</td>\n",
              "      <td>0.200186</td>\n",
              "      <td>-0.012176</td>\n",
              "      <td>-0.008025</td>\n",
              "      <td>0.490997</td>\n",
              "      <td>0.049406</td>\n",
              "      <td>0.447504</td>\n",
              "      <td>-0.095735</td>\n",
              "    </tr>\n",
              "    <tr>\n",
              "      <th>bedrooms</th>\n",
              "      <td>0.239214</td>\n",
              "      <td>1.000000</td>\n",
              "      <td>0.443816</td>\n",
              "      <td>0.614615</td>\n",
              "      <td>0.205092</td>\n",
              "      <td>0.128898</td>\n",
              "      <td>NaN</td>\n",
              "      <td>0.029109</td>\n",
              "      <td>0.289933</td>\n",
              "      <td>0.485829</td>\n",
              "      <td>0.242182</td>\n",
              "      <td>0.159318</td>\n",
              "      <td>-0.189590</td>\n",
              "      <td>-0.082263</td>\n",
              "      <td>0.191199</td>\n",
              "      <td>0.413615</td>\n",
              "      <td>0.196653</td>\n",
              "    </tr>\n",
              "    <tr>\n",
              "      <th>bathrooms</th>\n",
              "      <td>0.340767</td>\n",
              "      <td>0.443816</td>\n",
              "      <td>1.000000</td>\n",
              "      <td>0.669337</td>\n",
              "      <td>-0.088711</td>\n",
              "      <td>0.524475</td>\n",
              "      <td>NaN</td>\n",
              "      <td>-0.157639</td>\n",
              "      <td>0.584361</td>\n",
              "      <td>0.592870</td>\n",
              "      <td>0.155143</td>\n",
              "      <td>0.604099</td>\n",
              "      <td>-0.250526</td>\n",
              "      <td>-0.055468</td>\n",
              "      <td>0.301019</td>\n",
              "      <td>0.515211</td>\n",
              "      <td>-0.091677</td>\n",
              "    </tr>\n",
              "    <tr>\n",
              "      <th>sqft_living</th>\n",
              "      <td>0.514465</td>\n",
              "      <td>0.614615</td>\n",
              "      <td>0.669337</td>\n",
              "      <td>1.000000</td>\n",
              "      <td>0.164760</td>\n",
              "      <td>0.317437</td>\n",
              "      <td>NaN</td>\n",
              "      <td>-0.068415</td>\n",
              "      <td>0.622565</td>\n",
              "      <td>0.831448</td>\n",
              "      <td>0.324253</td>\n",
              "      <td>0.351198</td>\n",
              "      <td>-0.239981</td>\n",
              "      <td>-0.027359</td>\n",
              "      <td>0.314039</td>\n",
              "      <td>0.727137</td>\n",
              "      <td>0.150074</td>\n",
              "    </tr>\n",
              "    <tr>\n",
              "      <th>sqft_lot</th>\n",
              "      <td>-0.085519</td>\n",
              "      <td>0.205092</td>\n",
              "      <td>-0.088711</td>\n",
              "      <td>0.164760</td>\n",
              "      <td>1.000000</td>\n",
              "      <td>-0.416436</td>\n",
              "      <td>NaN</td>\n",
              "      <td>0.151206</td>\n",
              "      <td>-0.032188</td>\n",
              "      <td>0.114661</td>\n",
              "      <td>0.091440</td>\n",
              "      <td>-0.106939</td>\n",
              "      <td>-0.257420</td>\n",
              "      <td>-0.142242</td>\n",
              "      <td>0.222175</td>\n",
              "      <td>0.200412</td>\n",
              "      <td>0.882197</td>\n",
              "    </tr>\n",
              "    <tr>\n",
              "      <th>floors</th>\n",
              "      <td>0.227441</td>\n",
              "      <td>0.128898</td>\n",
              "      <td>0.524475</td>\n",
              "      <td>0.317437</td>\n",
              "      <td>-0.416436</td>\n",
              "      <td>1.000000</td>\n",
              "      <td>NaN</td>\n",
              "      <td>-0.302576</td>\n",
              "      <td>0.472503</td>\n",
              "      <td>0.518531</td>\n",
              "      <td>-0.330550</td>\n",
              "      <td>0.552402</td>\n",
              "      <td>-0.060073</td>\n",
              "      <td>0.010908</td>\n",
              "      <td>0.142078</td>\n",
              "      <td>0.254738</td>\n",
              "      <td>-0.423910</td>\n",
              "    </tr>\n",
              "    <tr>\n",
              "      <th>waterfront</th>\n",
              "      <td>NaN</td>\n",
              "      <td>NaN</td>\n",
              "      <td>NaN</td>\n",
              "      <td>NaN</td>\n",
              "      <td>NaN</td>\n",
              "      <td>NaN</td>\n",
              "      <td>NaN</td>\n",
              "      <td>NaN</td>\n",
              "      <td>NaN</td>\n",
              "      <td>NaN</td>\n",
              "      <td>NaN</td>\n",
              "      <td>NaN</td>\n",
              "      <td>NaN</td>\n",
              "      <td>NaN</td>\n",
              "      <td>NaN</td>\n",
              "      <td>NaN</td>\n",
              "      <td>NaN</td>\n",
              "    </tr>\n",
              "    <tr>\n",
              "      <th>condition</th>\n",
              "      <td>0.084215</td>\n",
              "      <td>0.029109</td>\n",
              "      <td>-0.157639</td>\n",
              "      <td>-0.068415</td>\n",
              "      <td>0.151206</td>\n",
              "      <td>-0.302576</td>\n",
              "      <td>NaN</td>\n",
              "      <td>1.000000</td>\n",
              "      <td>-0.189171</td>\n",
              "      <td>-0.189246</td>\n",
              "      <td>0.203177</td>\n",
              "      <td>-0.405011</td>\n",
              "      <td>0.001657</td>\n",
              "      <td>0.016100</td>\n",
              "      <td>-0.105117</td>\n",
              "      <td>-0.131915</td>\n",
              "      <td>0.153056</td>\n",
              "    </tr>\n",
              "    <tr>\n",
              "      <th>grade</th>\n",
              "      <td>0.527261</td>\n",
              "      <td>0.289933</td>\n",
              "      <td>0.584361</td>\n",
              "      <td>0.622565</td>\n",
              "      <td>-0.032188</td>\n",
              "      <td>0.472503</td>\n",
              "      <td>NaN</td>\n",
              "      <td>-0.189171</td>\n",
              "      <td>1.000000</td>\n",
              "      <td>0.637885</td>\n",
              "      <td>-0.002877</td>\n",
              "      <td>0.509145</td>\n",
              "      <td>-0.214973</td>\n",
              "      <td>0.060172</td>\n",
              "      <td>0.238483</td>\n",
              "      <td>0.603934</td>\n",
              "      <td>-0.023650</td>\n",
              "    </tr>\n",
              "    <tr>\n",
              "      <th>sqft_above</th>\n",
              "      <td>0.408152</td>\n",
              "      <td>0.485829</td>\n",
              "      <td>0.592870</td>\n",
              "      <td>0.831448</td>\n",
              "      <td>0.114661</td>\n",
              "      <td>0.518531</td>\n",
              "      <td>NaN</td>\n",
              "      <td>-0.189246</td>\n",
              "      <td>0.637885</td>\n",
              "      <td>1.000000</td>\n",
              "      <td>-0.255985</td>\n",
              "      <td>0.473741</td>\n",
              "      <td>-0.308117</td>\n",
              "      <td>-0.103869</td>\n",
              "      <td>0.426250</td>\n",
              "      <td>0.710195</td>\n",
              "      <td>0.101779</td>\n",
              "    </tr>\n",
              "    <tr>\n",
              "      <th>sqft_basement</th>\n",
              "      <td>0.200186</td>\n",
              "      <td>0.242182</td>\n",
              "      <td>0.155143</td>\n",
              "      <td>0.324253</td>\n",
              "      <td>0.091440</td>\n",
              "      <td>-0.330550</td>\n",
              "      <td>NaN</td>\n",
              "      <td>0.203177</td>\n",
              "      <td>-0.002877</td>\n",
              "      <td>-0.255985</td>\n",
              "      <td>1.000000</td>\n",
              "      <td>-0.195550</td>\n",
              "      <td>0.107063</td>\n",
              "      <td>0.129247</td>\n",
              "      <td>-0.179344</td>\n",
              "      <td>0.055950</td>\n",
              "      <td>0.087821</td>\n",
              "    </tr>\n",
              "    <tr>\n",
              "      <th>yr_built</th>\n",
              "      <td>-0.012176</td>\n",
              "      <td>0.159318</td>\n",
              "      <td>0.604099</td>\n",
              "      <td>0.351198</td>\n",
              "      <td>-0.106939</td>\n",
              "      <td>0.552402</td>\n",
              "      <td>NaN</td>\n",
              "      <td>-0.405011</td>\n",
              "      <td>0.509145</td>\n",
              "      <td>0.473741</td>\n",
              "      <td>-0.195550</td>\n",
              "      <td>1.000000</td>\n",
              "      <td>-0.344105</td>\n",
              "      <td>-0.193258</td>\n",
              "      <td>0.436360</td>\n",
              "      <td>0.362947</td>\n",
              "      <td>-0.086088</td>\n",
              "    </tr>\n",
              "    <tr>\n",
              "      <th>zipcode</th>\n",
              "      <td>-0.008025</td>\n",
              "      <td>-0.189590</td>\n",
              "      <td>-0.250526</td>\n",
              "      <td>-0.239981</td>\n",
              "      <td>-0.257420</td>\n",
              "      <td>-0.060073</td>\n",
              "      <td>NaN</td>\n",
              "      <td>0.001657</td>\n",
              "      <td>-0.214973</td>\n",
              "      <td>-0.308117</td>\n",
              "      <td>0.107063</td>\n",
              "      <td>-0.344105</td>\n",
              "      <td>1.000000</td>\n",
              "      <td>0.301986</td>\n",
              "      <td>-0.583432</td>\n",
              "      <td>-0.331813</td>\n",
              "      <td>-0.257451</td>\n",
              "    </tr>\n",
              "    <tr>\n",
              "      <th>lat</th>\n",
              "      <td>0.490997</td>\n",
              "      <td>-0.082263</td>\n",
              "      <td>-0.055468</td>\n",
              "      <td>-0.027359</td>\n",
              "      <td>-0.142242</td>\n",
              "      <td>0.010908</td>\n",
              "      <td>NaN</td>\n",
              "      <td>0.016100</td>\n",
              "      <td>0.060172</td>\n",
              "      <td>-0.103869</td>\n",
              "      <td>0.129247</td>\n",
              "      <td>-0.193258</td>\n",
              "      <td>0.301986</td>\n",
              "      <td>1.000000</td>\n",
              "      <td>-0.161876</td>\n",
              "      <td>-0.034344</td>\n",
              "      <td>-0.140255</td>\n",
              "    </tr>\n",
              "    <tr>\n",
              "      <th>long</th>\n",
              "      <td>0.049406</td>\n",
              "      <td>0.191199</td>\n",
              "      <td>0.301019</td>\n",
              "      <td>0.314039</td>\n",
              "      <td>0.222175</td>\n",
              "      <td>0.142078</td>\n",
              "      <td>NaN</td>\n",
              "      <td>-0.105117</td>\n",
              "      <td>0.238483</td>\n",
              "      <td>0.426250</td>\n",
              "      <td>-0.179344</td>\n",
              "      <td>0.436360</td>\n",
              "      <td>-0.583432</td>\n",
              "      <td>-0.161876</td>\n",
              "      <td>1.000000</td>\n",
              "      <td>0.414155</td>\n",
              "      <td>0.220322</td>\n",
              "    </tr>\n",
              "    <tr>\n",
              "      <th>sqft_living15</th>\n",
              "      <td>0.447504</td>\n",
              "      <td>0.413615</td>\n",
              "      <td>0.515211</td>\n",
              "      <td>0.727137</td>\n",
              "      <td>0.200412</td>\n",
              "      <td>0.254738</td>\n",
              "      <td>NaN</td>\n",
              "      <td>-0.131915</td>\n",
              "      <td>0.603934</td>\n",
              "      <td>0.710195</td>\n",
              "      <td>0.055950</td>\n",
              "      <td>0.362947</td>\n",
              "      <td>-0.331813</td>\n",
              "      <td>-0.034344</td>\n",
              "      <td>0.414155</td>\n",
              "      <td>1.000000</td>\n",
              "      <td>0.214983</td>\n",
              "    </tr>\n",
              "    <tr>\n",
              "      <th>sqft_lot15</th>\n",
              "      <td>-0.095735</td>\n",
              "      <td>0.196653</td>\n",
              "      <td>-0.091677</td>\n",
              "      <td>0.150074</td>\n",
              "      <td>0.882197</td>\n",
              "      <td>-0.423910</td>\n",
              "      <td>NaN</td>\n",
              "      <td>0.153056</td>\n",
              "      <td>-0.023650</td>\n",
              "      <td>0.101779</td>\n",
              "      <td>0.087821</td>\n",
              "      <td>-0.086088</td>\n",
              "      <td>-0.257451</td>\n",
              "      <td>-0.140255</td>\n",
              "      <td>0.220322</td>\n",
              "      <td>0.214983</td>\n",
              "      <td>1.000000</td>\n",
              "    </tr>\n",
              "  </tbody>\n",
              "</table>\n",
              "</div>"
            ],
            "text/plain": [
              "                  price  bedrooms  ...  sqft_living15  sqft_lot15\n",
              "price          1.000000  0.239214  ...       0.447504   -0.095735\n",
              "bedrooms       0.239214  1.000000  ...       0.413615    0.196653\n",
              "bathrooms      0.340767  0.443816  ...       0.515211   -0.091677\n",
              "sqft_living    0.514465  0.614615  ...       0.727137    0.150074\n",
              "sqft_lot      -0.085519  0.205092  ...       0.200412    0.882197\n",
              "floors         0.227441  0.128898  ...       0.254738   -0.423910\n",
              "waterfront          NaN       NaN  ...            NaN         NaN\n",
              "condition      0.084215  0.029109  ...      -0.131915    0.153056\n",
              "grade          0.527261  0.289933  ...       0.603934   -0.023650\n",
              "sqft_above     0.408152  0.485829  ...       0.710195    0.101779\n",
              "sqft_basement  0.200186  0.242182  ...       0.055950    0.087821\n",
              "yr_built      -0.012176  0.159318  ...       0.362947   -0.086088\n",
              "zipcode       -0.008025 -0.189590  ...      -0.331813   -0.257451\n",
              "lat            0.490997 -0.082263  ...      -0.034344   -0.140255\n",
              "long           0.049406  0.191199  ...       0.414155    0.220322\n",
              "sqft_living15  0.447504  0.413615  ...       1.000000    0.214983\n",
              "sqft_lot15    -0.095735  0.196653  ...       0.214983    1.000000\n",
              "\n",
              "[17 rows x 17 columns]"
            ]
          },
          "metadata": {
            "tags": []
          },
          "execution_count": 24
        }
      ]
    },
    {
      "cell_type": "markdown",
      "metadata": {
        "id": "d_kMZLGuLimY"
      },
      "source": [
        "##MULTIVARIATE ANALYSIS"
      ]
    },
    {
      "cell_type": "code",
      "metadata": {
        "colab": {
          "base_uri": "https://localhost:8080/"
        },
        "id": "bbj_a1WUOEPT",
        "outputId": "60d5397a-cf2f-49f2-95ff-4992f627e79c"
      },
      "source": [
        "house.columns"
      ],
      "execution_count": null,
      "outputs": [
        {
          "output_type": "execute_result",
          "data": {
            "text/plain": [
              "Index(['price', 'bedrooms', 'bathrooms', 'sqft_living', 'sqft_lot', 'floors',\n",
              "       'waterfront', 'condition', 'grade', 'sqft_above', 'sqft_basement',\n",
              "       'yr_built', 'zipcode', 'lat', 'long', 'sqft_living15', 'sqft_lot15'],\n",
              "      dtype='object')"
            ]
          },
          "metadata": {
            "tags": []
          },
          "execution_count": 25
        }
      ]
    },
    {
      "cell_type": "code",
      "metadata": {
        "id": "hX1M3zODLl6S"
      },
      "source": [
        "#using LDA to find the coefficients that have the most weight in predicting\n",
        "#splitting the variables\n",
        "X=house[[ 'bedrooms', 'bathrooms', 'sqft_living', 'sqft_lot', 'floors',\n",
        "       'waterfront', 'condition', 'grade', 'sqft_above', 'sqft_basement',\n",
        "       'yr_built', 'zipcode', 'lat', 'long', 'sqft_living15', 'sqft_lot15']]\n",
        "y=house['price']"
      ],
      "execution_count": null,
      "outputs": []
    },
    {
      "cell_type": "code",
      "metadata": {
        "colab": {
          "base_uri": "https://localhost:8080/"
        },
        "id": "exml0G5BOPyu",
        "outputId": "e7d9e516-593b-4812-dbeb-6f807e9a97c9"
      },
      "source": [
        "#Import linear Doscriminant analysis method from sklearn library\n",
        "from sklearn.discriminant_analysis import LinearDiscriminantAnalysis as LDA\n",
        "#create an instance of LDA\n",
        "lda=LDA()\n",
        "lda_=lda.fit(X,y)\n",
        "lda_x=lda_.transform(X)\n",
        "lda_.coef_"
      ],
      "execution_count": null,
      "outputs": [
        {
          "output_type": "execute_result",
          "data": {
            "text/plain": [
              "array([[ 1.18958921e+00, -1.43799727e+00, -2.74615485e-03, ...,\n",
              "        -4.71146717e+00, -2.41315806e-03,  1.27268433e-03],\n",
              "       [-1.70600912e+00, -5.83034038e-01, -1.49154131e-03, ...,\n",
              "        -2.37961388e+00, -2.77321281e-03, -1.14407779e-05],\n",
              "       [ 1.10969699e+00, -2.42396572e+00, -1.93825300e-03, ...,\n",
              "        -1.77314481e+01, -6.32020049e-03,  7.52845711e-04],\n",
              "       ...,\n",
              "       [-7.21335522e-01,  1.75194011e+00,  1.36707754e-03, ...,\n",
              "        -3.27915274e+00,  2.71769424e-03, -1.78220672e-04],\n",
              "       [ 5.53203351e-01, -1.34467619e-01,  3.58144292e-03, ...,\n",
              "        -7.22833848e+00,  2.87310282e-04, -2.84078806e-04],\n",
              "       [-3.16170709e+00, -6.41557566e+00,  7.54433009e-03, ...,\n",
              "        -2.39102695e-01, -2.86551877e-03, -4.93000519e-05]])"
            ]
          },
          "metadata": {
            "tags": []
          },
          "execution_count": 27
        }
      ]
    },
    {
      "cell_type": "code",
      "metadata": {
        "colab": {
          "base_uri": "https://localhost:8080/",
          "height": 550
        },
        "id": "NDQACC1cOaOw",
        "outputId": "84bf2008-0256-43ea-9105-2ac44e4563e0"
      },
      "source": [
        "#creating a dataframe\n",
        "hse=pd.DataFrame(index=X.columns.values,data=lda_.coef_[0].T)\n",
        "hse.sort_values(0,ascending=False)"
      ],
      "execution_count": null,
      "outputs": [
        {
          "output_type": "execute_result",
          "data": {
            "text/html": [
              "<div>\n",
              "<style scoped>\n",
              "    .dataframe tbody tr th:only-of-type {\n",
              "        vertical-align: middle;\n",
              "    }\n",
              "\n",
              "    .dataframe tbody tr th {\n",
              "        vertical-align: top;\n",
              "    }\n",
              "\n",
              "    .dataframe thead th {\n",
              "        text-align: right;\n",
              "    }\n",
              "</style>\n",
              "<table border=\"1\" class=\"dataframe\">\n",
              "  <thead>\n",
              "    <tr style=\"text-align: right;\">\n",
              "      <th></th>\n",
              "      <th>0</th>\n",
              "    </tr>\n",
              "  </thead>\n",
              "  <tbody>\n",
              "    <tr>\n",
              "      <th>bedrooms</th>\n",
              "      <td>1.189589e+00</td>\n",
              "    </tr>\n",
              "    <tr>\n",
              "      <th>floors</th>\n",
              "      <td>8.513644e-01</td>\n",
              "    </tr>\n",
              "    <tr>\n",
              "      <th>yr_built</th>\n",
              "      <td>7.306751e-02</td>\n",
              "    </tr>\n",
              "    <tr>\n",
              "      <th>zipcode</th>\n",
              "      <td>3.240791e-02</td>\n",
              "    </tr>\n",
              "    <tr>\n",
              "      <th>sqft_lot15</th>\n",
              "      <td>1.272684e-03</td>\n",
              "    </tr>\n",
              "    <tr>\n",
              "      <th>waterfront</th>\n",
              "      <td>-4.786170e-17</td>\n",
              "    </tr>\n",
              "    <tr>\n",
              "      <th>sqft_lot</th>\n",
              "      <td>-1.609760e-04</td>\n",
              "    </tr>\n",
              "    <tr>\n",
              "      <th>sqft_above</th>\n",
              "      <td>-1.621751e-03</td>\n",
              "    </tr>\n",
              "    <tr>\n",
              "      <th>sqft_basement</th>\n",
              "      <td>-2.286221e-03</td>\n",
              "    </tr>\n",
              "    <tr>\n",
              "      <th>sqft_living15</th>\n",
              "      <td>-2.413158e-03</td>\n",
              "    </tr>\n",
              "    <tr>\n",
              "      <th>sqft_living</th>\n",
              "      <td>-2.746155e-03</td>\n",
              "    </tr>\n",
              "    <tr>\n",
              "      <th>bathrooms</th>\n",
              "      <td>-1.437997e+00</td>\n",
              "    </tr>\n",
              "    <tr>\n",
              "      <th>condition</th>\n",
              "      <td>-2.331717e+00</td>\n",
              "    </tr>\n",
              "    <tr>\n",
              "      <th>grade</th>\n",
              "      <td>-3.754358e+00</td>\n",
              "    </tr>\n",
              "    <tr>\n",
              "      <th>long</th>\n",
              "      <td>-4.711467e+00</td>\n",
              "    </tr>\n",
              "    <tr>\n",
              "      <th>lat</th>\n",
              "      <td>-2.381085e+01</td>\n",
              "    </tr>\n",
              "  </tbody>\n",
              "</table>\n",
              "</div>"
            ],
            "text/plain": [
              "                          0\n",
              "bedrooms       1.189589e+00\n",
              "floors         8.513644e-01\n",
              "yr_built       7.306751e-02\n",
              "zipcode        3.240791e-02\n",
              "sqft_lot15     1.272684e-03\n",
              "waterfront    -4.786170e-17\n",
              "sqft_lot      -1.609760e-04\n",
              "sqft_above    -1.621751e-03\n",
              "sqft_basement -2.286221e-03\n",
              "sqft_living15 -2.413158e-03\n",
              "sqft_living   -2.746155e-03\n",
              "bathrooms     -1.437997e+00\n",
              "condition     -2.331717e+00\n",
              "grade         -3.754358e+00\n",
              "long          -4.711467e+00\n",
              "lat           -2.381085e+01"
            ]
          },
          "metadata": {
            "tags": []
          },
          "execution_count": 28
        }
      ]
    },
    {
      "cell_type": "markdown",
      "metadata": {
        "id": "UxoB8ITOFs_6"
      },
      "source": [
        "The following coefficients have a greater weight in predicting the price-bedrooms,floors,year built,zipcode and sqft_lot15"
      ]
    },
    {
      "cell_type": "markdown",
      "metadata": {
        "id": "66Q0j_pnResK"
      },
      "source": [
        "##LINEAR REGRESSION"
      ]
    },
    {
      "cell_type": "code",
      "metadata": {
        "colab": {
          "base_uri": "https://localhost:8080/"
        },
        "id": "5SJitfFXSK4Q",
        "outputId": "c7acc9ec-8041-45d4-e9e2-ee1697760cb3"
      },
      "source": [
        "house.columns"
      ],
      "execution_count": null,
      "outputs": [
        {
          "output_type": "execute_result",
          "data": {
            "text/plain": [
              "Index(['price', 'bedrooms', 'bathrooms', 'sqft_living', 'sqft_lot', 'floors',\n",
              "       'waterfront', 'condition', 'grade', 'sqft_above', 'sqft_basement',\n",
              "       'yr_built', 'zipcode', 'lat', 'long', 'sqft_living15', 'sqft_lot15'],\n",
              "      dtype='object')"
            ]
          },
          "metadata": {
            "tags": []
          },
          "execution_count": 29
        }
      ]
    },
    {
      "cell_type": "code",
      "metadata": {
        "id": "mkMg7N8EQ4_d"
      },
      "source": [
        "#splitting the variables\n",
        "X=house[['bedrooms','floors','yr_built','zipcode','sqft_lot15']]\n",
        "y=house['price']"
      ],
      "execution_count": null,
      "outputs": []
    },
    {
      "cell_type": "code",
      "metadata": {
        "id": "gjpcjJMqRn2d"
      },
      "source": [
        "#splitting the dataset\n",
        "from sklearn.model_selection import train_test_split\n",
        "X_train, X_test, y_train, y_test = train_test_split(X, y, test_size=0.2, random_state=0)"
      ],
      "execution_count": null,
      "outputs": []
    },
    {
      "cell_type": "code",
      "metadata": {
        "colab": {
          "base_uri": "https://localhost:8080/"
        },
        "id": "pj9rAc4RRu6k",
        "outputId": "27c34b43-8ff7-43d2-a813-3f9a3a761fc4"
      },
      "source": [
        "#running the linear regression\n",
        "from sklearn.linear_model import LinearRegression\n",
        "regressor = LinearRegression()\n",
        "regressor.fit(X_train, y_train)"
      ],
      "execution_count": null,
      "outputs": [
        {
          "output_type": "execute_result",
          "data": {
            "text/plain": [
              "LinearRegression(copy_X=True, fit_intercept=True, n_jobs=None, normalize=False)"
            ]
          },
          "metadata": {
            "tags": []
          },
          "execution_count": 32
        }
      ]
    },
    {
      "cell_type": "code",
      "metadata": {
        "colab": {
          "base_uri": "https://localhost:8080/",
          "height": 206
        },
        "id": "iXINFueiRz8X",
        "outputId": "dafe01fe-b79b-4d82-9bf4-6a4e62eca375"
      },
      "source": [
        "coeff_df = pd.DataFrame(regressor.coef_, X.columns, columns=['Coefficient'])\n",
        "coeff_df"
      ],
      "execution_count": null,
      "outputs": [
        {
          "output_type": "execute_result",
          "data": {
            "text/html": [
              "<div>\n",
              "<style scoped>\n",
              "    .dataframe tbody tr th:only-of-type {\n",
              "        vertical-align: middle;\n",
              "    }\n",
              "\n",
              "    .dataframe tbody tr th {\n",
              "        vertical-align: top;\n",
              "    }\n",
              "\n",
              "    .dataframe thead th {\n",
              "        text-align: right;\n",
              "    }\n",
              "</style>\n",
              "<table border=\"1\" class=\"dataframe\">\n",
              "  <thead>\n",
              "    <tr style=\"text-align: right;\">\n",
              "      <th></th>\n",
              "      <th>Coefficient</th>\n",
              "    </tr>\n",
              "  </thead>\n",
              "  <tbody>\n",
              "    <tr>\n",
              "      <th>bedrooms</th>\n",
              "      <td>55841.625182</td>\n",
              "    </tr>\n",
              "    <tr>\n",
              "      <th>floors</th>\n",
              "      <td>100501.028407</td>\n",
              "    </tr>\n",
              "    <tr>\n",
              "      <th>yr_built</th>\n",
              "      <td>-1467.936606</td>\n",
              "    </tr>\n",
              "    <tr>\n",
              "      <th>zipcode</th>\n",
              "      <td>-142.795961</td>\n",
              "    </tr>\n",
              "    <tr>\n",
              "      <th>sqft_lot15</th>\n",
              "      <td>-2.370892</td>\n",
              "    </tr>\n",
              "  </tbody>\n",
              "</table>\n",
              "</div>"
            ],
            "text/plain": [
              "              Coefficient\n",
              "bedrooms     55841.625182\n",
              "floors      100501.028407\n",
              "yr_built     -1467.936606\n",
              "zipcode       -142.795961\n",
              "sqft_lot15      -2.370892"
            ]
          },
          "metadata": {
            "tags": []
          },
          "execution_count": 33
        }
      ]
    },
    {
      "cell_type": "code",
      "metadata": {
        "colab": {
          "base_uri": "https://localhost:8080/",
          "height": 424
        },
        "id": "xplbiywER3uk",
        "outputId": "9c7cdc29-4732-431c-f84c-168510cb2e8c"
      },
      "source": [
        "# \n",
        "y_pred = regressor.predict(X_test)\n",
        "\n",
        "# To compare the actual output values for X_test with the predicted values\n",
        "# \n",
        "df = pd.DataFrame({'Actual': y_test, 'Predicted': y_pred})\n",
        "df"
      ],
      "execution_count": null,
      "outputs": [
        {
          "output_type": "execute_result",
          "data": {
            "text/html": [
              "<div>\n",
              "<style scoped>\n",
              "    .dataframe tbody tr th:only-of-type {\n",
              "        vertical-align: middle;\n",
              "    }\n",
              "\n",
              "    .dataframe tbody tr th {\n",
              "        vertical-align: top;\n",
              "    }\n",
              "\n",
              "    .dataframe thead th {\n",
              "        text-align: right;\n",
              "    }\n",
              "</style>\n",
              "<table border=\"1\" class=\"dataframe\">\n",
              "  <thead>\n",
              "    <tr style=\"text-align: right;\">\n",
              "      <th></th>\n",
              "      <th>Actual</th>\n",
              "      <th>Predicted</th>\n",
              "    </tr>\n",
              "  </thead>\n",
              "  <tbody>\n",
              "    <tr>\n",
              "      <th>5939</th>\n",
              "      <td>410000.0</td>\n",
              "      <td>436440.244745</td>\n",
              "    </tr>\n",
              "    <tr>\n",
              "      <th>2643</th>\n",
              "      <td>305000.0</td>\n",
              "      <td>371075.824268</td>\n",
              "    </tr>\n",
              "    <tr>\n",
              "      <th>14159</th>\n",
              "      <td>433000.0</td>\n",
              "      <td>391036.099274</td>\n",
              "    </tr>\n",
              "    <tr>\n",
              "      <th>20532</th>\n",
              "      <td>550000.0</td>\n",
              "      <td>402988.567793</td>\n",
              "    </tr>\n",
              "    <tr>\n",
              "      <th>17869</th>\n",
              "      <td>335000.0</td>\n",
              "      <td>498599.675913</td>\n",
              "    </tr>\n",
              "    <tr>\n",
              "      <th>...</th>\n",
              "      <td>...</td>\n",
              "      <td>...</td>\n",
              "    </tr>\n",
              "    <tr>\n",
              "      <th>10780</th>\n",
              "      <td>750000.0</td>\n",
              "      <td>423305.094825</td>\n",
              "    </tr>\n",
              "    <tr>\n",
              "      <th>2095</th>\n",
              "      <td>800000.0</td>\n",
              "      <td>508572.989964</td>\n",
              "    </tr>\n",
              "    <tr>\n",
              "      <th>14819</th>\n",
              "      <td>373500.0</td>\n",
              "      <td>495533.451605</td>\n",
              "    </tr>\n",
              "    <tr>\n",
              "      <th>16274</th>\n",
              "      <td>160000.0</td>\n",
              "      <td>423286.489283</td>\n",
              "    </tr>\n",
              "    <tr>\n",
              "      <th>3713</th>\n",
              "      <td>421000.0</td>\n",
              "      <td>443381.066160</td>\n",
              "    </tr>\n",
              "  </tbody>\n",
              "</table>\n",
              "<p>2987 rows × 2 columns</p>\n",
              "</div>"
            ],
            "text/plain": [
              "         Actual      Predicted\n",
              "5939   410000.0  436440.244745\n",
              "2643   305000.0  371075.824268\n",
              "14159  433000.0  391036.099274\n",
              "20532  550000.0  402988.567793\n",
              "17869  335000.0  498599.675913\n",
              "...         ...            ...\n",
              "10780  750000.0  423305.094825\n",
              "2095   800000.0  508572.989964\n",
              "14819  373500.0  495533.451605\n",
              "16274  160000.0  423286.489283\n",
              "3713   421000.0  443381.066160\n",
              "\n",
              "[2987 rows x 2 columns]"
            ]
          },
          "metadata": {
            "tags": []
          },
          "execution_count": 34
        }
      ]
    },
    {
      "cell_type": "code",
      "metadata": {
        "colab": {
          "base_uri": "https://localhost:8080/"
        },
        "id": "9NsihD8oR8Z7",
        "outputId": "71fb5137-1636-4373-83cc-f6944aaa957c"
      },
      "source": [
        "from sklearn import metrics\n",
        "print('Mean Absolute Error:', metrics.mean_absolute_error(y_test, y_pred))\n",
        "print('Mean Squared Error:', metrics.mean_squared_error(y_test, y_pred))\n",
        "print('Root Mean Squared Error:', np.sqrt(metrics.mean_squared_error(y_test, y_pred)))"
      ],
      "execution_count": null,
      "outputs": [
        {
          "output_type": "stream",
          "text": [
            "Mean Absolute Error: 133727.0369143668\n",
            "Mean Squared Error: 28342898727.61848\n",
            "Root Mean Squared Error: 168353.4933632756\n"
          ],
          "name": "stdout"
        }
      ]
    },
    {
      "cell_type": "markdown",
      "metadata": {
        "id": "6PtF894ec8Ic"
      },
      "source": [
        "MULTICOLLINEARITY"
      ]
    },
    {
      "cell_type": "code",
      "metadata": {
        "colab": {
          "base_uri": "https://localhost:8080/",
          "height": 206
        },
        "id": "MbmDR9NJTKOR",
        "outputId": "e7633f87-6996-4552-8c55-1c12035e11f8"
      },
      "source": [
        "#detecting multicollinearity\n",
        "#Viewing correlations between the variables\n",
        "independent=house[['bedrooms','floors','yr_built','zipcode','sqft_lot15']]\n",
        "correlations = independent.corr()\n",
        "\n",
        "correlations"
      ],
      "execution_count": null,
      "outputs": [
        {
          "output_type": "execute_result",
          "data": {
            "text/html": [
              "<div>\n",
              "<style scoped>\n",
              "    .dataframe tbody tr th:only-of-type {\n",
              "        vertical-align: middle;\n",
              "    }\n",
              "\n",
              "    .dataframe tbody tr th {\n",
              "        vertical-align: top;\n",
              "    }\n",
              "\n",
              "    .dataframe thead th {\n",
              "        text-align: right;\n",
              "    }\n",
              "</style>\n",
              "<table border=\"1\" class=\"dataframe\">\n",
              "  <thead>\n",
              "    <tr style=\"text-align: right;\">\n",
              "      <th></th>\n",
              "      <th>bedrooms</th>\n",
              "      <th>floors</th>\n",
              "      <th>yr_built</th>\n",
              "      <th>zipcode</th>\n",
              "      <th>sqft_lot15</th>\n",
              "    </tr>\n",
              "  </thead>\n",
              "  <tbody>\n",
              "    <tr>\n",
              "      <th>bedrooms</th>\n",
              "      <td>1.000000</td>\n",
              "      <td>0.128898</td>\n",
              "      <td>0.159318</td>\n",
              "      <td>-0.189590</td>\n",
              "      <td>0.196653</td>\n",
              "    </tr>\n",
              "    <tr>\n",
              "      <th>floors</th>\n",
              "      <td>0.128898</td>\n",
              "      <td>1.000000</td>\n",
              "      <td>0.552402</td>\n",
              "      <td>-0.060073</td>\n",
              "      <td>-0.423910</td>\n",
              "    </tr>\n",
              "    <tr>\n",
              "      <th>yr_built</th>\n",
              "      <td>0.159318</td>\n",
              "      <td>0.552402</td>\n",
              "      <td>1.000000</td>\n",
              "      <td>-0.344105</td>\n",
              "      <td>-0.086088</td>\n",
              "    </tr>\n",
              "    <tr>\n",
              "      <th>zipcode</th>\n",
              "      <td>-0.189590</td>\n",
              "      <td>-0.060073</td>\n",
              "      <td>-0.344105</td>\n",
              "      <td>1.000000</td>\n",
              "      <td>-0.257451</td>\n",
              "    </tr>\n",
              "    <tr>\n",
              "      <th>sqft_lot15</th>\n",
              "      <td>0.196653</td>\n",
              "      <td>-0.423910</td>\n",
              "      <td>-0.086088</td>\n",
              "      <td>-0.257451</td>\n",
              "      <td>1.000000</td>\n",
              "    </tr>\n",
              "  </tbody>\n",
              "</table>\n",
              "</div>"
            ],
            "text/plain": [
              "            bedrooms    floors  yr_built   zipcode  sqft_lot15\n",
              "bedrooms    1.000000  0.128898  0.159318 -0.189590    0.196653\n",
              "floors      0.128898  1.000000  0.552402 -0.060073   -0.423910\n",
              "yr_built    0.159318  0.552402  1.000000 -0.344105   -0.086088\n",
              "zipcode    -0.189590 -0.060073 -0.344105  1.000000   -0.257451\n",
              "sqft_lot15  0.196653 -0.423910 -0.086088 -0.257451    1.000000"
            ]
          },
          "metadata": {
            "tags": []
          },
          "execution_count": 36
        }
      ]
    },
    {
      "cell_type": "code",
      "metadata": {
        "colab": {
          "base_uri": "https://localhost:8080/",
          "height": 488
        },
        "id": "HIQRzMHTS8bd",
        "outputId": "7c5f6170-5a2f-4c49-e03e-7493a7082473"
      },
      "source": [
        "#checking the heat map\n",
        "plt.figure(figsize=(12, 8))\n",
        "\n",
        "sns.heatmap(correlations, \n",
        "            xticklabels = correlations.columns.values,\n",
        "            yticklabels = correlations.columns.values,\n",
        "            annot = True);"
      ],
      "execution_count": null,
      "outputs": [
        {
          "output_type": "display_data",
          "data": {
            "image/png": "[encoded data removed]",
            "text/plain": [
              "<Figure size 864x576 with 2 Axes>"
            ]
          },
          "metadata": {
            "tags": [],
            "needs_background": "light"
          }
        }
      ]
    },
    {
      "cell_type": "code",
      "metadata": {
        "colab": {
          "base_uri": "https://localhost:8080/",
          "height": 206
        },
        "id": "rFktO4rZThVp",
        "outputId": "64b91559-9ce3-49b9-9550-7bfec5905956"
      },
      "source": [
        "#computing VIF\n",
        "pd.DataFrame(np.linalg.inv(correlations.values), index = correlations.index, columns=correlations.columns)"
      ],
      "execution_count": null,
      "outputs": [
        {
          "output_type": "execute_result",
          "data": {
            "text/html": [
              "<div>\n",
              "<style scoped>\n",
              "    .dataframe tbody tr th:only-of-type {\n",
              "        vertical-align: middle;\n",
              "    }\n",
              "\n",
              "    .dataframe tbody tr th {\n",
              "        vertical-align: top;\n",
              "    }\n",
              "\n",
              "    .dataframe thead th {\n",
              "        text-align: right;\n",
              "    }\n",
              "</style>\n",
              "<table border=\"1\" class=\"dataframe\">\n",
              "  <thead>\n",
              "    <tr style=\"text-align: right;\">\n",
              "      <th></th>\n",
              "      <th>bedrooms</th>\n",
              "      <th>floors</th>\n",
              "      <th>yr_built</th>\n",
              "      <th>zipcode</th>\n",
              "      <th>sqft_lot15</th>\n",
              "    </tr>\n",
              "  </thead>\n",
              "  <tbody>\n",
              "    <tr>\n",
              "      <th>bedrooms</th>\n",
              "      <td>1.116155</td>\n",
              "      <td>-0.248111</td>\n",
              "      <td>-0.028677</td>\n",
              "      <td>0.109900</td>\n",
              "      <td>-0.298847</td>\n",
              "    </tr>\n",
              "    <tr>\n",
              "      <th>floors</th>\n",
              "      <td>-0.248111</td>\n",
              "      <td>1.868090</td>\n",
              "      <td>-0.953647</td>\n",
              "      <td>-0.072476</td>\n",
              "      <td>0.739936</td>\n",
              "    </tr>\n",
              "    <tr>\n",
              "      <th>yr_built</th>\n",
              "      <td>-0.028677</td>\n",
              "      <td>-0.953647</td>\n",
              "      <td>1.687083</td>\n",
              "      <td>0.484701</td>\n",
              "      <td>-0.128596</td>\n",
              "    </tr>\n",
              "    <tr>\n",
              "      <th>zipcode</th>\n",
              "      <td>0.109900</td>\n",
              "      <td>-0.072476</td>\n",
              "      <td>0.484701</td>\n",
              "      <td>1.264341</td>\n",
              "      <td>0.314897</td>\n",
              "    </tr>\n",
              "    <tr>\n",
              "      <th>sqft_lot15</th>\n",
              "      <td>-0.298847</td>\n",
              "      <td>0.739936</td>\n",
              "      <td>-0.128596</td>\n",
              "      <td>0.314897</td>\n",
              "      <td>1.442435</td>\n",
              "    </tr>\n",
              "  </tbody>\n",
              "</table>\n",
              "</div>"
            ],
            "text/plain": [
              "            bedrooms    floors  yr_built   zipcode  sqft_lot15\n",
              "bedrooms    1.116155 -0.248111 -0.028677  0.109900   -0.298847\n",
              "floors     -0.248111  1.868090 -0.953647 -0.072476    0.739936\n",
              "yr_built   -0.028677 -0.953647  1.687083  0.484701   -0.128596\n",
              "zipcode     0.109900 -0.072476  0.484701  1.264341    0.314897\n",
              "sqft_lot15 -0.298847  0.739936 -0.128596  0.314897    1.442435"
            ]
          },
          "metadata": {
            "tags": []
          },
          "execution_count": 38
        }
      ]
    },
    {
      "cell_type": "markdown",
      "metadata": {
        "id": "QjK9e-uwTlKL"
      },
      "source": [
        "There is no multicollinearity"
      ]
    },
    {
      "cell_type": "markdown",
      "metadata": {
        "id": "no_1-FJVdKvf"
      },
      "source": [
        "HETEROSKEDASTICITY"
      ]
    },
    {
      "cell_type": "code",
      "metadata": {
        "colab": {
          "base_uri": "https://localhost:8080/",
          "height": 294
        },
        "id": "8sD0UF9xTkSg",
        "outputId": "a2a97ab0-ee2e-421d-a2fe-9845fa5a2187"
      },
      "source": [
        "# Bartlett's test\n",
        "\n",
        "residuals = np.subtract(y_pred, y_test)\n",
        "\n",
        "# Plotting the prediction errors\n",
        "plt.scatter(y_pred, residuals, color='black')\n",
        "plt.title('Residual Plot')\n",
        "plt.ylabel('residual')\n",
        "plt.xlabel('fitted values')\n",
        "plt.axhline(y= residuals.mean(), color='red', linewidth=1)\n",
        "plt.show()"
      ],
      "execution_count": null,
      "outputs": [
        {
          "output_type": "display_data",
          "data": {
            "image/png": "[encoded data removed]",
            "text/plain": [
              "<Figure size 432x288 with 1 Axes>"
            ]
          },
          "metadata": {
            "tags": [],
            "needs_background": "light"
          }
        }
      ]
    },
    {
      "cell_type": "code",
      "metadata": {
        "colab": {
          "base_uri": "https://localhost:8080/"
        },
        "id": "aoLn15BkT9AD",
        "outputId": "00f87129-7cca-44d4-8b0a-6a4ca54dac23"
      },
      "source": [
        "#heteroskedasticity test\n",
        "import scipy as sp\n",
        "test_result, p_value = sp.stats.bartlett(y_pred, residuals)\n",
        "\n",
        "# To interpret the results we must also compute a critical value of the chi squared distribution\n",
        "degree_of_freedom = len(y_pred)-1\n",
        "probability = 1 - p_value\n",
        "\n",
        "critical_value = sp.stats.chi2.ppf(probability, degree_of_freedom)\n",
        "print(p_value)\n",
        "#hypothesis testing for homogenity in variance\n",
        "if (test_result > critical_value):\n",
        "  print('the variances are unequal, and the model should be reassessed')\n",
        "else:\n",
        "  print('the variances are homogeneous!')"
      ],
      "execution_count": null,
      "outputs": [
        {
          "output_type": "stream",
          "text": [
            "0.0\n",
            "the variances are homogeneous!\n"
          ],
          "name": "stdout"
        }
      ]
    },
    {
      "cell_type": "markdown",
      "metadata": {
        "id": "Ue2l7BQLX_BL"
      },
      "source": [
        "##QUANTILE REGRESSION"
      ]
    },
    {
      "cell_type": "code",
      "metadata": {
        "colab": {
          "base_uri": "https://localhost:8080/"
        },
        "id": "qSz1SZhHYCF8",
        "outputId": "202ab281-1a8b-4619-c5a4-88f77da08e7a"
      },
      "source": [
        "import statsmodels.formula.api as smf\n",
        "\n",
        "mod = smf.quantreg('price ~  bedrooms + floors + yr_built + zipcode + sqft_lot15', data=house)\n",
        "res = mod.fit(q=.5)\n",
        "\n",
        "# Then print out the summary of our model\n",
        "#\n",
        "print(res.summary())"
      ],
      "execution_count": null,
      "outputs": [
        {
          "output_type": "stream",
          "text": [
            "                         QuantReg Regression Results                          \n",
            "==============================================================================\n",
            "Dep. Variable:                  price   Pseudo R-squared:              0.06922\n",
            "Model:                       QuantReg   Bandwidth:                   3.330e+04\n",
            "Method:                 Least Squares   Sparsity:                    4.394e+05\n",
            "Date:                Fri, 23 Jul 2021   No. Observations:                14931\n",
            "Time:                        04:03:14   Df Residuals:                    14925\n",
            "                                        Df Model:                            5\n",
            "==============================================================================\n",
            "                 coef    std err          t      P>|t|      [0.025      0.975]\n",
            "------------------------------------------------------------------------------\n",
            "Intercept     65.7348      0.408    161.042      0.000      64.935      66.535\n",
            "bedrooms    5.525e+04   2447.937     22.568      0.000    5.04e+04       6e+04\n",
            "floors      1.045e+05   4475.612     23.347      0.000    9.57e+04    1.13e+05\n",
            "yr_built   -1703.5404     74.267    -22.938      0.000   -1849.113   -1557.968\n",
            "zipcode       35.2792      1.446     24.403      0.000      32.445      38.113\n",
            "sqft_lot15    -3.4985      0.704     -4.971      0.000      -4.878      -2.119\n",
            "==============================================================================\n",
            "\n",
            "The condition number is large, 2.06e+08. This might indicate that there are\n",
            "strong multicollinearity or other numerical problems.\n"
          ],
          "name": "stdout"
        },
        {
          "output_type": "stream",
          "text": [
            "/usr/local/lib/python3.7/dist-packages/statsmodels/regression/quantile_regression.py:192: IterationLimitWarning: Maximum number of iterations (1000) reached.\n",
            "  \") reached.\", IterationLimitWarning)\n"
          ],
          "name": "stderr"
        }
      ]
    },
    {
      "cell_type": "markdown",
      "metadata": {
        "id": "-MlsPInEdyyz"
      },
      "source": [
        "BEDROOMS"
      ]
    },
    {
      "cell_type": "code",
      "metadata": {
        "colab": {
          "base_uri": "https://localhost:8080/",
          "height": 644
        },
        "id": "TMVFU3-pdwkR",
        "outputId": "b6428040-f6de-4028-dbca-a92cc1be8a90"
      },
      "source": [
        "# Other quantiles\n",
        "\n",
        "quantiles = np.arange(0.1,1,0.1) \n",
        "models = []\n",
        "params = []\n",
        "\n",
        "for qt in quantiles: \n",
        "\tres = mod.fit(q = qt )\n",
        "\tmodels.append(res)\n",
        "\tparams.append([qt, res.params['Intercept'], res.params['bedrooms']] + res.conf_int().loc['bedrooms'].tolist())\n",
        "\n",
        "# Making a dataframe of the same name to view our different models.\n",
        "params = pd.DataFrame(data = params, columns = ['qt', 'intercept', 'x_coef', 'cf_lower_bound', 'cf_upper_bound'])\n",
        "params"
      ],
      "execution_count": null,
      "outputs": [
        {
          "output_type": "stream",
          "text": [
            "/usr/local/lib/python3.7/dist-packages/statsmodels/regression/quantile_regression.py:192: IterationLimitWarning: Maximum number of iterations (1000) reached.\n",
            "  \") reached.\", IterationLimitWarning)\n",
            "/usr/local/lib/python3.7/dist-packages/statsmodels/regression/quantile_regression.py:192: IterationLimitWarning: Maximum number of iterations (1000) reached.\n",
            "  \") reached.\", IterationLimitWarning)\n",
            "/usr/local/lib/python3.7/dist-packages/statsmodels/regression/quantile_regression.py:192: IterationLimitWarning: Maximum number of iterations (1000) reached.\n",
            "  \") reached.\", IterationLimitWarning)\n",
            "/usr/local/lib/python3.7/dist-packages/statsmodels/regression/quantile_regression.py:192: IterationLimitWarning: Maximum number of iterations (1000) reached.\n",
            "  \") reached.\", IterationLimitWarning)\n",
            "/usr/local/lib/python3.7/dist-packages/statsmodels/regression/quantile_regression.py:192: IterationLimitWarning: Maximum number of iterations (1000) reached.\n",
            "  \") reached.\", IterationLimitWarning)\n",
            "/usr/local/lib/python3.7/dist-packages/statsmodels/regression/quantile_regression.py:192: IterationLimitWarning: Maximum number of iterations (1000) reached.\n",
            "  \") reached.\", IterationLimitWarning)\n",
            "/usr/local/lib/python3.7/dist-packages/statsmodels/regression/quantile_regression.py:192: IterationLimitWarning: Maximum number of iterations (1000) reached.\n",
            "  \") reached.\", IterationLimitWarning)\n",
            "/usr/local/lib/python3.7/dist-packages/statsmodels/regression/quantile_regression.py:192: IterationLimitWarning: Maximum number of iterations (1000) reached.\n",
            "  \") reached.\", IterationLimitWarning)\n",
            "/usr/local/lib/python3.7/dist-packages/statsmodels/regression/quantile_regression.py:192: IterationLimitWarning: Maximum number of iterations (1000) reached.\n",
            "  \") reached.\", IterationLimitWarning)\n"
          ],
          "name": "stderr"
        },
        {
          "output_type": "execute_result",
          "data": {
            "text/html": [
              "<div>\n",
              "<style scoped>\n",
              "    .dataframe tbody tr th:only-of-type {\n",
              "        vertical-align: middle;\n",
              "    }\n",
              "\n",
              "    .dataframe tbody tr th {\n",
              "        vertical-align: top;\n",
              "    }\n",
              "\n",
              "    .dataframe thead th {\n",
              "        text-align: right;\n",
              "    }\n",
              "</style>\n",
              "<table border=\"1\" class=\"dataframe\">\n",
              "  <thead>\n",
              "    <tr style=\"text-align: right;\">\n",
              "      <th></th>\n",
              "      <th>qt</th>\n",
              "      <th>intercept</th>\n",
              "      <th>x_coef</th>\n",
              "      <th>cf_lower_bound</th>\n",
              "      <th>cf_upper_bound</th>\n",
              "    </tr>\n",
              "  </thead>\n",
              "  <tbody>\n",
              "    <tr>\n",
              "      <th>0</th>\n",
              "      <td>0.1</td>\n",
              "      <td>-38.037523</td>\n",
              "      <td>29650.991694</td>\n",
              "      <td>26914.087482</td>\n",
              "      <td>32387.895907</td>\n",
              "    </tr>\n",
              "    <tr>\n",
              "      <th>1</th>\n",
              "      <td>0.2</td>\n",
              "      <td>-57.395853</td>\n",
              "      <td>37455.179848</td>\n",
              "      <td>34383.612639</td>\n",
              "      <td>40526.747057</td>\n",
              "    </tr>\n",
              "    <tr>\n",
              "      <th>2</th>\n",
              "      <td>0.3</td>\n",
              "      <td>-16.504000</td>\n",
              "      <td>41283.029604</td>\n",
              "      <td>37653.342956</td>\n",
              "      <td>44912.716252</td>\n",
              "    </tr>\n",
              "    <tr>\n",
              "      <th>3</th>\n",
              "      <td>0.4</td>\n",
              "      <td>94.451093</td>\n",
              "      <td>47175.074908</td>\n",
              "      <td>42955.456565</td>\n",
              "      <td>51394.693251</td>\n",
              "    </tr>\n",
              "    <tr>\n",
              "      <th>4</th>\n",
              "      <td>0.5</td>\n",
              "      <td>65.734764</td>\n",
              "      <td>55245.331152</td>\n",
              "      <td>50447.073710</td>\n",
              "      <td>60043.588594</td>\n",
              "    </tr>\n",
              "    <tr>\n",
              "      <th>5</th>\n",
              "      <td>0.6</td>\n",
              "      <td>7.146033</td>\n",
              "      <td>64974.384383</td>\n",
              "      <td>59972.434337</td>\n",
              "      <td>69976.334429</td>\n",
              "    </tr>\n",
              "    <tr>\n",
              "      <th>6</th>\n",
              "      <td>0.7</td>\n",
              "      <td>112.346000</td>\n",
              "      <td>70922.139636</td>\n",
              "      <td>65520.609213</td>\n",
              "      <td>76323.670059</td>\n",
              "    </tr>\n",
              "    <tr>\n",
              "      <th>7</th>\n",
              "      <td>0.8</td>\n",
              "      <td>95.240528</td>\n",
              "      <td>80538.076477</td>\n",
              "      <td>74233.931051</td>\n",
              "      <td>86842.221904</td>\n",
              "    </tr>\n",
              "    <tr>\n",
              "      <th>8</th>\n",
              "      <td>0.9</td>\n",
              "      <td>20.461207</td>\n",
              "      <td>84479.712290</td>\n",
              "      <td>76352.898353</td>\n",
              "      <td>92606.526227</td>\n",
              "    </tr>\n",
              "  </tbody>\n",
              "</table>\n",
              "</div>"
            ],
            "text/plain": [
              "    qt   intercept        x_coef  cf_lower_bound  cf_upper_bound\n",
              "0  0.1  -38.037523  29650.991694    26914.087482    32387.895907\n",
              "1  0.2  -57.395853  37455.179848    34383.612639    40526.747057\n",
              "2  0.3  -16.504000  41283.029604    37653.342956    44912.716252\n",
              "3  0.4   94.451093  47175.074908    42955.456565    51394.693251\n",
              "4  0.5   65.734764  55245.331152    50447.073710    60043.588594\n",
              "5  0.6    7.146033  64974.384383    59972.434337    69976.334429\n",
              "6  0.7  112.346000  70922.139636    65520.609213    76323.670059\n",
              "7  0.8   95.240528  80538.076477    74233.931051    86842.221904\n",
              "8  0.9   20.461207  84479.712290    76352.898353    92606.526227"
            ]
          },
          "metadata": {
            "tags": []
          },
          "execution_count": 42
        }
      ]
    },
    {
      "cell_type": "code",
      "metadata": {
        "id": "HEHQap6Hdwci"
      },
      "source": [
        "x_ = house['bedrooms'].values.reshape(-1,1)\n",
        "y_ = house['price'].values\n",
        "model2 = LinearRegression(fit_intercept = True, normalize = False)\n",
        "model2.fit(x_, y_)\n",
        "\n",
        "y_pred2 = model2.predict(x_)"
      ],
      "execution_count": null,
      "outputs": []
    },
    {
      "cell_type": "code",
      "metadata": {
        "colab": {
          "base_uri": "https://localhost:8080/",
          "height": 296
        },
        "id": "IdAtzDDddwUu",
        "outputId": "653745c8-cefb-465c-cc82-2faee985294a"
      },
      "source": [
        "## Let us now plot 0.1th, 0.5th and 0.9th quantile models against our original data.\n",
        "# \n",
        "plt.figure(5)\n",
        "plt.scatter(x_, y_,  color='black')\n",
        "plt.plot(x_, y_pred2, color='blue',\n",
        "         linewidth=3, label='Lin Reg')\n",
        "\n",
        "y_pred3 = models[0].params['Intercept'] + models[0].params['bedrooms'] * x_\n",
        "plt.plot(x_, y_pred3, color='red',\n",
        "         linewidth=3, label='Q Reg : 0.1')\n",
        "\n",
        "y_pred4 = models[4].params['Intercept'] + models[4].params['bedrooms'] * x_\n",
        "plt.plot(x_, y_pred4, color='green',\n",
        "         linewidth=3, label='Q Reg : 0.5')\n",
        "\n",
        "\n",
        "y_pred5 = models[8].params['Intercept'] + models[8].params['bedrooms'] * x_\n",
        "plt.plot(x_, y_pred5, color='cyan',\n",
        "         linewidth=3, label='Q Reg : 0.9')\n",
        "\n",
        "plt.xticks(())\n",
        "plt.yticks(())\n",
        "plt.xlabel(\"x\")\n",
        "plt.ylabel(\"y and predicted y\")\n",
        "plt.title(\"Quantile regression on data with non-constant variance\")\n",
        "plt.legend()\n"
      ],
      "execution_count": null,
      "outputs": [
        {
          "output_type": "execute_result",
          "data": {
            "text/plain": [
              "<matplotlib.legend.Legend at 0x7fcbd333c710>"
            ]
          },
          "metadata": {
            "tags": []
          },
          "execution_count": 44
        },
        {
          "output_type": "display_data",
          "data": {
            "image/png": "[encoded data removed]",
            "text/plain": [
              "<Figure size 432x288 with 1 Axes>"
            ]
          },
          "metadata": {
            "tags": []
          }
        }
      ]
    },
    {
      "cell_type": "code",
      "metadata": {
        "colab": {
          "base_uri": "https://localhost:8080/",
          "height": 312
        },
        "id": "ldNikl_Mewzp",
        "outputId": "c0f52687-cad7-4edc-aac2-93c2a6a523b0"
      },
      "source": [
        "# Changes in the quantile coeffiecients\n",
        "\n",
        "plt.figure(6)\n",
        "params.plot(x = 'qt', y = ['x_coef','cf_lower_bound', 'cf_upper_bound'], \n",
        "\ttitle = 'Slope for different quantiles', kind ='line', style = ['b-','r--','g--'])\n",
        "plt.show()"
      ],
      "execution_count": null,
      "outputs": [
        {
          "output_type": "display_data",
          "data": {
            "text/plain": [
              "<Figure size 432x288 with 0 Axes>"
            ]
          },
          "metadata": {
            "tags": []
          }
        },
        {
          "output_type": "display_data",
          "data": {
            "image/png": "[encoded data removed]",
            "text/plain": [
              "<Figure size 432x288 with 1 Axes>"
            ]
          },
          "metadata": {
            "tags": [],
            "needs_background": "light"
          }
        }
      ]
    },
    {
      "cell_type": "markdown",
      "metadata": {
        "id": "xm-GTiMNepDS"
      },
      "source": [
        "FLOORS"
      ]
    },
    {
      "cell_type": "code",
      "metadata": {
        "colab": {
          "base_uri": "https://localhost:8080/",
          "height": 644
        },
        "id": "5LvH46vWesQS",
        "outputId": "925d5d5f-a409-42cd-9713-36830d6fdc22"
      },
      "source": [
        "# Other quantiles\n",
        "\n",
        "quantiles = np.arange(0.1,1,0.1) \n",
        "models = []\n",
        "params = []\n",
        "\n",
        "for qt in quantiles: \n",
        "\tres = mod.fit(q = qt )\n",
        "\tmodels.append(res)\n",
        "\tparams.append([qt, res.params['Intercept'], res.params['floors']] + res.conf_int().loc['floors'].tolist())\n",
        "\n",
        "# Making a dataframe of the same name to view our different models.\n",
        "params = pd.DataFrame(data = params, columns = ['qt', 'intercept', 'x_coef', 'cf_lower_bound', 'cf_upper_bound'])\n",
        "params"
      ],
      "execution_count": null,
      "outputs": [
        {
          "output_type": "stream",
          "text": [
            "/usr/local/lib/python3.7/dist-packages/statsmodels/regression/quantile_regression.py:192: IterationLimitWarning: Maximum number of iterations (1000) reached.\n",
            "  \") reached.\", IterationLimitWarning)\n",
            "/usr/local/lib/python3.7/dist-packages/statsmodels/regression/quantile_regression.py:192: IterationLimitWarning: Maximum number of iterations (1000) reached.\n",
            "  \") reached.\", IterationLimitWarning)\n",
            "/usr/local/lib/python3.7/dist-packages/statsmodels/regression/quantile_regression.py:192: IterationLimitWarning: Maximum number of iterations (1000) reached.\n",
            "  \") reached.\", IterationLimitWarning)\n",
            "/usr/local/lib/python3.7/dist-packages/statsmodels/regression/quantile_regression.py:192: IterationLimitWarning: Maximum number of iterations (1000) reached.\n",
            "  \") reached.\", IterationLimitWarning)\n",
            "/usr/local/lib/python3.7/dist-packages/statsmodels/regression/quantile_regression.py:192: IterationLimitWarning: Maximum number of iterations (1000) reached.\n",
            "  \") reached.\", IterationLimitWarning)\n",
            "/usr/local/lib/python3.7/dist-packages/statsmodels/regression/quantile_regression.py:192: IterationLimitWarning: Maximum number of iterations (1000) reached.\n",
            "  \") reached.\", IterationLimitWarning)\n",
            "/usr/local/lib/python3.7/dist-packages/statsmodels/regression/quantile_regression.py:192: IterationLimitWarning: Maximum number of iterations (1000) reached.\n",
            "  \") reached.\", IterationLimitWarning)\n",
            "/usr/local/lib/python3.7/dist-packages/statsmodels/regression/quantile_regression.py:192: IterationLimitWarning: Maximum number of iterations (1000) reached.\n",
            "  \") reached.\", IterationLimitWarning)\n",
            "/usr/local/lib/python3.7/dist-packages/statsmodels/regression/quantile_regression.py:192: IterationLimitWarning: Maximum number of iterations (1000) reached.\n",
            "  \") reached.\", IterationLimitWarning)\n"
          ],
          "name": "stderr"
        },
        {
          "output_type": "execute_result",
          "data": {
            "text/html": [
              "<div>\n",
              "<style scoped>\n",
              "    .dataframe tbody tr th:only-of-type {\n",
              "        vertical-align: middle;\n",
              "    }\n",
              "\n",
              "    .dataframe tbody tr th {\n",
              "        vertical-align: top;\n",
              "    }\n",
              "\n",
              "    .dataframe thead th {\n",
              "        text-align: right;\n",
              "    }\n",
              "</style>\n",
              "<table border=\"1\" class=\"dataframe\">\n",
              "  <thead>\n",
              "    <tr style=\"text-align: right;\">\n",
              "      <th></th>\n",
              "      <th>qt</th>\n",
              "      <th>intercept</th>\n",
              "      <th>x_coef</th>\n",
              "      <th>cf_lower_bound</th>\n",
              "      <th>cf_upper_bound</th>\n",
              "    </tr>\n",
              "  </thead>\n",
              "  <tbody>\n",
              "    <tr>\n",
              "      <th>0</th>\n",
              "      <td>0.1</td>\n",
              "      <td>-38.037523</td>\n",
              "      <td>51963.403898</td>\n",
              "      <td>47079.235483</td>\n",
              "      <td>56847.572314</td>\n",
              "    </tr>\n",
              "    <tr>\n",
              "      <th>1</th>\n",
              "      <td>0.2</td>\n",
              "      <td>-57.395853</td>\n",
              "      <td>62592.381196</td>\n",
              "      <td>57004.095679</td>\n",
              "      <td>68180.666713</td>\n",
              "    </tr>\n",
              "    <tr>\n",
              "      <th>2</th>\n",
              "      <td>0.3</td>\n",
              "      <td>-16.504000</td>\n",
              "      <td>78168.462280</td>\n",
              "      <td>71611.489400</td>\n",
              "      <td>84725.435161</td>\n",
              "    </tr>\n",
              "    <tr>\n",
              "      <th>3</th>\n",
              "      <td>0.4</td>\n",
              "      <td>94.451093</td>\n",
              "      <td>95230.499113</td>\n",
              "      <td>87528.839381</td>\n",
              "      <td>102932.158845</td>\n",
              "    </tr>\n",
              "    <tr>\n",
              "      <th>4</th>\n",
              "      <td>0.5</td>\n",
              "      <td>65.734764</td>\n",
              "      <td>104491.751552</td>\n",
              "      <td>95719.002672</td>\n",
              "      <td>113264.500432</td>\n",
              "    </tr>\n",
              "    <tr>\n",
              "      <th>5</th>\n",
              "      <td>0.6</td>\n",
              "      <td>7.146033</td>\n",
              "      <td>112163.261864</td>\n",
              "      <td>102975.748180</td>\n",
              "      <td>121350.775547</td>\n",
              "    </tr>\n",
              "    <tr>\n",
              "      <th>6</th>\n",
              "      <td>0.7</td>\n",
              "      <td>112.346000</td>\n",
              "      <td>122168.793907</td>\n",
              "      <td>112168.051715</td>\n",
              "      <td>132169.536098</td>\n",
              "    </tr>\n",
              "    <tr>\n",
              "      <th>7</th>\n",
              "      <td>0.8</td>\n",
              "      <td>95.240528</td>\n",
              "      <td>125980.958450</td>\n",
              "      <td>114270.227382</td>\n",
              "      <td>137691.689518</td>\n",
              "    </tr>\n",
              "    <tr>\n",
              "      <th>8</th>\n",
              "      <td>0.9</td>\n",
              "      <td>20.461207</td>\n",
              "      <td>131901.506794</td>\n",
              "      <td>116500.571303</td>\n",
              "      <td>147302.442284</td>\n",
              "    </tr>\n",
              "  </tbody>\n",
              "</table>\n",
              "</div>"
            ],
            "text/plain": [
              "    qt   intercept         x_coef  cf_lower_bound  cf_upper_bound\n",
              "0  0.1  -38.037523   51963.403898    47079.235483    56847.572314\n",
              "1  0.2  -57.395853   62592.381196    57004.095679    68180.666713\n",
              "2  0.3  -16.504000   78168.462280    71611.489400    84725.435161\n",
              "3  0.4   94.451093   95230.499113    87528.839381   102932.158845\n",
              "4  0.5   65.734764  104491.751552    95719.002672   113264.500432\n",
              "5  0.6    7.146033  112163.261864   102975.748180   121350.775547\n",
              "6  0.7  112.346000  122168.793907   112168.051715   132169.536098\n",
              "7  0.8   95.240528  125980.958450   114270.227382   137691.689518\n",
              "8  0.9   20.461207  131901.506794   116500.571303   147302.442284"
            ]
          },
          "metadata": {
            "tags": []
          },
          "execution_count": 46
        }
      ]
    },
    {
      "cell_type": "code",
      "metadata": {
        "id": "-C2Wy8Mmer87"
      },
      "source": [
        "x_ = house['floors'].values.reshape(-1,1)\n",
        "y_ = house['price'].values\n",
        "model2 = LinearRegression(fit_intercept = True, normalize = False)\n",
        "model2.fit(x_, y_)\n",
        "\n",
        "y_pred2 = model2.predict(x_)"
      ],
      "execution_count": null,
      "outputs": []
    },
    {
      "cell_type": "code",
      "metadata": {
        "colab": {
          "base_uri": "https://localhost:8080/",
          "height": 296
        },
        "id": "DWniLB4verxu",
        "outputId": "d132262d-bc00-4f40-8d0b-1f0eb17e8603"
      },
      "source": [
        "## Let us now plot 0.1th, 0.5th and 0.9th quantile models against our original data.\n",
        "# \n",
        "plt.figure(5)\n",
        "plt.scatter(x_, y_,  color='black')\n",
        "plt.plot(x_, y_pred2, color='blue',\n",
        "         linewidth=3, label='Lin Reg')\n",
        "\n",
        "y_pred3 = models[0].params['Intercept'] + models[0].params['floors'] * x_\n",
        "plt.plot(x_, y_pred3, color='red',\n",
        "         linewidth=3, label='Q Reg : 0.1')\n",
        "\n",
        "y_pred4 = models[4].params['Intercept'] + models[4].params['floors'] * x_\n",
        "plt.plot(x_, y_pred4, color='green',\n",
        "         linewidth=3, label='Q Reg : 0.5')\n",
        "\n",
        "\n",
        "y_pred5 = models[8].params['Intercept'] + models[8].params['floors'] * x_\n",
        "plt.plot(x_, y_pred5, color='cyan',\n",
        "         linewidth=3, label='Q Reg : 0.9')\n",
        "\n",
        "plt.xticks(())\n",
        "plt.yticks(())\n",
        "plt.xlabel(\"x\")\n",
        "plt.ylabel(\"y and predicted y\")\n",
        "plt.title(\"Quantile regression on data with non-constant variance\")\n",
        "plt.legend()\n"
      ],
      "execution_count": null,
      "outputs": [
        {
          "output_type": "execute_result",
          "data": {
            "text/plain": [
              "<matplotlib.legend.Legend at 0x7fcbd31cc7d0>"
            ]
          },
          "metadata": {
            "tags": []
          },
          "execution_count": 48
        },
        {
          "output_type": "display_data",
          "data": {
            "image/png": "[encoded data removed]",
            "text/plain": [
              "<Figure size 432x288 with 1 Axes>"
            ]
          },
          "metadata": {
            "tags": []
          }
        }
      ]
    },
    {
      "cell_type": "code",
      "metadata": {
        "colab": {
          "base_uri": "https://localhost:8080/",
          "height": 312
        },
        "id": "Nyy4IsaRerI7",
        "outputId": "5b324b23-7873-47b2-ad1e-f80f712c9140"
      },
      "source": [
        "\n",
        "# Changes in the quantile coeffiecients\n",
        "\n",
        "plt.figure(6)\n",
        "params.plot(x = 'qt', y = ['x_coef','cf_lower_bound', 'cf_upper_bound'], \n",
        "\ttitle = 'Slope for different quantiles', kind ='line', style = ['b-','r--','g--'])\n",
        "plt.show()"
      ],
      "execution_count": null,
      "outputs": [
        {
          "output_type": "display_data",
          "data": {
            "text/plain": [
              "<Figure size 432x288 with 0 Axes>"
            ]
          },
          "metadata": {
            "tags": []
          }
        },
        {
          "output_type": "display_data",
          "data": {
            "image/png": "[encoded data removed]",
            "text/plain": [
              "<Figure size 432x288 with 1 Axes>"
            ]
          },
          "metadata": {
            "tags": [],
            "needs_background": "light"
          }
        }
      ]
    },
    {
      "cell_type": "markdown",
      "metadata": {
        "id": "Cn4REOvqfp_A"
      },
      "source": [
        "YEAR BUILT"
      ]
    },
    {
      "cell_type": "code",
      "metadata": {
        "colab": {
          "base_uri": "https://localhost:8080/",
          "height": 644
        },
        "id": "c6XsayiPfppY",
        "outputId": "ee0ec3d7-e3ef-4f78-93ae-40650ca7631c"
      },
      "source": [
        "# Other quantiles\n",
        "\n",
        "quantiles = np.arange(0.1,1,0.1) \n",
        "models = []\n",
        "params = []\n",
        "\n",
        "for qt in quantiles: \n",
        "\tres = mod.fit(q = qt )\n",
        "\tmodels.append(res)\n",
        "\tparams.append([qt, res.params['Intercept'], res.params['yr_built']] + res.conf_int().loc['yr_built'].tolist())\n",
        "\n",
        "# Making a dataframe of the same name to view our different models.\n",
        "params = pd.DataFrame(data = params, columns = ['qt', 'intercept', 'x_coef', 'cf_lower_bound', 'cf_upper_bound'])\n",
        "params"
      ],
      "execution_count": null,
      "outputs": [
        {
          "output_type": "stream",
          "text": [
            "/usr/local/lib/python3.7/dist-packages/statsmodels/regression/quantile_regression.py:192: IterationLimitWarning: Maximum number of iterations (1000) reached.\n",
            "  \") reached.\", IterationLimitWarning)\n",
            "/usr/local/lib/python3.7/dist-packages/statsmodels/regression/quantile_regression.py:192: IterationLimitWarning: Maximum number of iterations (1000) reached.\n",
            "  \") reached.\", IterationLimitWarning)\n",
            "/usr/local/lib/python3.7/dist-packages/statsmodels/regression/quantile_regression.py:192: IterationLimitWarning: Maximum number of iterations (1000) reached.\n",
            "  \") reached.\", IterationLimitWarning)\n",
            "/usr/local/lib/python3.7/dist-packages/statsmodels/regression/quantile_regression.py:192: IterationLimitWarning: Maximum number of iterations (1000) reached.\n",
            "  \") reached.\", IterationLimitWarning)\n",
            "/usr/local/lib/python3.7/dist-packages/statsmodels/regression/quantile_regression.py:192: IterationLimitWarning: Maximum number of iterations (1000) reached.\n",
            "  \") reached.\", IterationLimitWarning)\n",
            "/usr/local/lib/python3.7/dist-packages/statsmodels/regression/quantile_regression.py:192: IterationLimitWarning: Maximum number of iterations (1000) reached.\n",
            "  \") reached.\", IterationLimitWarning)\n",
            "/usr/local/lib/python3.7/dist-packages/statsmodels/regression/quantile_regression.py:192: IterationLimitWarning: Maximum number of iterations (1000) reached.\n",
            "  \") reached.\", IterationLimitWarning)\n",
            "/usr/local/lib/python3.7/dist-packages/statsmodels/regression/quantile_regression.py:192: IterationLimitWarning: Maximum number of iterations (1000) reached.\n",
            "  \") reached.\", IterationLimitWarning)\n",
            "/usr/local/lib/python3.7/dist-packages/statsmodels/regression/quantile_regression.py:192: IterationLimitWarning: Maximum number of iterations (1000) reached.\n",
            "  \") reached.\", IterationLimitWarning)\n"
          ],
          "name": "stderr"
        },
        {
          "output_type": "execute_result",
          "data": {
            "text/html": [
              "<div>\n",
              "<style scoped>\n",
              "    .dataframe tbody tr th:only-of-type {\n",
              "        vertical-align: middle;\n",
              "    }\n",
              "\n",
              "    .dataframe tbody tr th {\n",
              "        vertical-align: top;\n",
              "    }\n",
              "\n",
              "    .dataframe thead th {\n",
              "        text-align: right;\n",
              "    }\n",
              "</style>\n",
              "<table border=\"1\" class=\"dataframe\">\n",
              "  <thead>\n",
              "    <tr style=\"text-align: right;\">\n",
              "      <th></th>\n",
              "      <th>qt</th>\n",
              "      <th>intercept</th>\n",
              "      <th>x_coef</th>\n",
              "      <th>cf_lower_bound</th>\n",
              "      <th>cf_upper_bound</th>\n",
              "    </tr>\n",
              "  </thead>\n",
              "  <tbody>\n",
              "    <tr>\n",
              "      <th>0</th>\n",
              "      <td>0.1</td>\n",
              "      <td>-38.037523</td>\n",
              "      <td>-99.908210</td>\n",
              "      <td>-174.317015</td>\n",
              "      <td>-25.499404</td>\n",
              "    </tr>\n",
              "    <tr>\n",
              "      <th>1</th>\n",
              "      <td>0.2</td>\n",
              "      <td>-57.395853</td>\n",
              "      <td>-713.257293</td>\n",
              "      <td>-799.495263</td>\n",
              "      <td>-627.019323</td>\n",
              "    </tr>\n",
              "    <tr>\n",
              "      <th>2</th>\n",
              "      <td>0.3</td>\n",
              "      <td>-16.504000</td>\n",
              "      <td>-1190.563871</td>\n",
              "      <td>-1295.417581</td>\n",
              "      <td>-1085.710160</td>\n",
              "    </tr>\n",
              "    <tr>\n",
              "      <th>3</th>\n",
              "      <td>0.4</td>\n",
              "      <td>94.451093</td>\n",
              "      <td>-1543.329912</td>\n",
              "      <td>-1668.702540</td>\n",
              "      <td>-1417.957283</td>\n",
              "    </tr>\n",
              "    <tr>\n",
              "      <th>4</th>\n",
              "      <td>0.5</td>\n",
              "      <td>65.734764</td>\n",
              "      <td>-1703.540383</td>\n",
              "      <td>-1849.112893</td>\n",
              "      <td>-1557.967874</td>\n",
              "    </tr>\n",
              "    <tr>\n",
              "      <th>5</th>\n",
              "      <td>0.6</td>\n",
              "      <td>7.146033</td>\n",
              "      <td>-1755.521340</td>\n",
              "      <td>-1910.796274</td>\n",
              "      <td>-1600.246406</td>\n",
              "    </tr>\n",
              "    <tr>\n",
              "      <th>6</th>\n",
              "      <td>0.7</td>\n",
              "      <td>112.346000</td>\n",
              "      <td>-1796.446151</td>\n",
              "      <td>-1969.495422</td>\n",
              "      <td>-1623.396880</td>\n",
              "    </tr>\n",
              "    <tr>\n",
              "      <th>7</th>\n",
              "      <td>0.8</td>\n",
              "      <td>95.240528</td>\n",
              "      <td>-1711.432592</td>\n",
              "      <td>-1921.094711</td>\n",
              "      <td>-1501.770472</td>\n",
              "    </tr>\n",
              "    <tr>\n",
              "      <th>8</th>\n",
              "      <td>0.9</td>\n",
              "      <td>20.461207</td>\n",
              "      <td>-1708.963993</td>\n",
              "      <td>-1992.998795</td>\n",
              "      <td>-1424.929190</td>\n",
              "    </tr>\n",
              "  </tbody>\n",
              "</table>\n",
              "</div>"
            ],
            "text/plain": [
              "    qt   intercept       x_coef  cf_lower_bound  cf_upper_bound\n",
              "0  0.1  -38.037523   -99.908210     -174.317015      -25.499404\n",
              "1  0.2  -57.395853  -713.257293     -799.495263     -627.019323\n",
              "2  0.3  -16.504000 -1190.563871    -1295.417581    -1085.710160\n",
              "3  0.4   94.451093 -1543.329912    -1668.702540    -1417.957283\n",
              "4  0.5   65.734764 -1703.540383    -1849.112893    -1557.967874\n",
              "5  0.6    7.146033 -1755.521340    -1910.796274    -1600.246406\n",
              "6  0.7  112.346000 -1796.446151    -1969.495422    -1623.396880\n",
              "7  0.8   95.240528 -1711.432592    -1921.094711    -1501.770472\n",
              "8  0.9   20.461207 -1708.963993    -1992.998795    -1424.929190"
            ]
          },
          "metadata": {
            "tags": []
          },
          "execution_count": 50
        }
      ]
    },
    {
      "cell_type": "code",
      "metadata": {
        "id": "2bmtqAylfpet"
      },
      "source": [
        "x_ = house['yr_built'].values.reshape(-1,1)\n",
        "y_ = house['price'].values\n",
        "model2 = LinearRegression(fit_intercept = True, normalize = False)\n",
        "model2.fit(x_, y_)\n",
        "\n",
        "y_pred2 = model2.predict(x_)"
      ],
      "execution_count": null,
      "outputs": []
    },
    {
      "cell_type": "code",
      "metadata": {
        "colab": {
          "base_uri": "https://localhost:8080/",
          "height": 296
        },
        "id": "Ag8bSk9ZfpWG",
        "outputId": "5d75801a-df04-48c2-99b0-4f27ac46e94b"
      },
      "source": [
        "## Let us now plot 0.1th, 0.5th and 0.9th quantile models against our original data.\n",
        "# \n",
        "plt.figure(5)\n",
        "plt.scatter(x_, y_,  color='black')\n",
        "plt.plot(x_, y_pred2, color='blue',\n",
        "         linewidth=3, label='Lin Reg')\n",
        "\n",
        "y_pred3 = models[0].params['Intercept'] + models[0].params['yr_built'] * x_\n",
        "plt.plot(x_, y_pred3, color='red',\n",
        "         linewidth=3, label='Q Reg : 0.1')\n",
        "\n",
        "y_pred4 = models[4].params['Intercept'] + models[4].params['yr_built'] * x_\n",
        "plt.plot(x_, y_pred4, color='green',\n",
        "         linewidth=3, label='Q Reg : 0.5')\n",
        "\n",
        "\n",
        "y_pred5 = models[8].params['Intercept'] + models[8].params['yr_built'] * x_\n",
        "plt.plot(x_, y_pred5, color='cyan',\n",
        "         linewidth=3, label='Q Reg : 0.9')\n",
        "\n",
        "plt.xticks(())\n",
        "plt.yticks(())\n",
        "plt.xlabel(\"x\")\n",
        "plt.ylabel(\"y and predicted y\")\n",
        "plt.title(\"Quantile regression on data with non-constant variance\")\n",
        "plt.legend()"
      ],
      "execution_count": null,
      "outputs": [
        {
          "output_type": "execute_result",
          "data": {
            "text/plain": [
              "<matplotlib.legend.Legend at 0x7fcbd3111d90>"
            ]
          },
          "metadata": {
            "tags": []
          },
          "execution_count": 52
        },
        {
          "output_type": "display_data",
          "data": {
            "image/png": "[encoded data removed]",
            "text/plain": [
              "<Figure size 432x288 with 1 Axes>"
            ]
          },
          "metadata": {
            "tags": []
          }
        }
      ]
    },
    {
      "cell_type": "code",
      "metadata": {
        "colab": {
          "base_uri": "https://localhost:8080/",
          "height": 312
        },
        "id": "Ze7o9uOtfpIu",
        "outputId": "5a49f484-36ac-4bf1-8469-16eca126eb68"
      },
      "source": [
        "# Changes in the quantile coeffiecients\n",
        "\n",
        "plt.figure(6)\n",
        "params.plot(x = 'qt', y = ['x_coef','cf_lower_bound', 'cf_upper_bound'], \n",
        "\ttitle = 'Slope for different quantiles', kind ='line', style = ['b-','r--','g--'])\n",
        "plt.show()"
      ],
      "execution_count": null,
      "outputs": [
        {
          "output_type": "display_data",
          "data": {
            "text/plain": [
              "<Figure size 432x288 with 0 Axes>"
            ]
          },
          "metadata": {
            "tags": []
          }
        },
        {
          "output_type": "display_data",
          "data": {
            "image/png": "[encoded data removed]",
            "text/plain": [
              "<Figure size 432x288 with 1 Axes>"
            ]
          },
          "metadata": {
            "tags": [],
            "needs_background": "light"
          }
        }
      ]
    },
    {
      "cell_type": "markdown",
      "metadata": {
        "id": "e9ibT_-4fTj-"
      },
      "source": [
        "ZIPCODE"
      ]
    },
    {
      "cell_type": "code",
      "metadata": {
        "colab": {
          "base_uri": "https://localhost:8080/",
          "height": 644
        },
        "id": "3zb1aUwwY6kX",
        "outputId": "21d1de6e-a2be-441f-be4d-e76600fea2d5"
      },
      "source": [
        "# Other quantiles\n",
        "\n",
        "quantiles = np.arange(0.1,1,0.1) \n",
        "models = []\n",
        "params = []\n",
        "\n",
        "for qt in quantiles: \n",
        "\tres = mod.fit(q = qt )\n",
        "\tmodels.append(res)\n",
        "\tparams.append([qt, res.params['Intercept'], res.params['zipcode']] + res.conf_int().loc['zipcode'].tolist())\n",
        "\n",
        "# Making a dataframe of the same name to view our different models.\n",
        "params = pd.DataFrame(data = params, columns = ['qt', 'intercept', 'x_coef', 'cf_lower_bound', 'cf_upper_bound'])\n",
        "params"
      ],
      "execution_count": null,
      "outputs": [
        {
          "output_type": "stream",
          "text": [
            "/usr/local/lib/python3.7/dist-packages/statsmodels/regression/quantile_regression.py:192: IterationLimitWarning: Maximum number of iterations (1000) reached.\n",
            "  \") reached.\", IterationLimitWarning)\n",
            "/usr/local/lib/python3.7/dist-packages/statsmodels/regression/quantile_regression.py:192: IterationLimitWarning: Maximum number of iterations (1000) reached.\n",
            "  \") reached.\", IterationLimitWarning)\n",
            "/usr/local/lib/python3.7/dist-packages/statsmodels/regression/quantile_regression.py:192: IterationLimitWarning: Maximum number of iterations (1000) reached.\n",
            "  \") reached.\", IterationLimitWarning)\n",
            "/usr/local/lib/python3.7/dist-packages/statsmodels/regression/quantile_regression.py:192: IterationLimitWarning: Maximum number of iterations (1000) reached.\n",
            "  \") reached.\", IterationLimitWarning)\n",
            "/usr/local/lib/python3.7/dist-packages/statsmodels/regression/quantile_regression.py:192: IterationLimitWarning: Maximum number of iterations (1000) reached.\n",
            "  \") reached.\", IterationLimitWarning)\n",
            "/usr/local/lib/python3.7/dist-packages/statsmodels/regression/quantile_regression.py:192: IterationLimitWarning: Maximum number of iterations (1000) reached.\n",
            "  \") reached.\", IterationLimitWarning)\n",
            "/usr/local/lib/python3.7/dist-packages/statsmodels/regression/quantile_regression.py:192: IterationLimitWarning: Maximum number of iterations (1000) reached.\n",
            "  \") reached.\", IterationLimitWarning)\n",
            "/usr/local/lib/python3.7/dist-packages/statsmodels/regression/quantile_regression.py:192: IterationLimitWarning: Maximum number of iterations (1000) reached.\n",
            "  \") reached.\", IterationLimitWarning)\n",
            "/usr/local/lib/python3.7/dist-packages/statsmodels/regression/quantile_regression.py:192: IterationLimitWarning: Maximum number of iterations (1000) reached.\n",
            "  \") reached.\", IterationLimitWarning)\n"
          ],
          "name": "stderr"
        },
        {
          "output_type": "execute_result",
          "data": {
            "text/html": [
              "<div>\n",
              "<style scoped>\n",
              "    .dataframe tbody tr th:only-of-type {\n",
              "        vertical-align: middle;\n",
              "    }\n",
              "\n",
              "    .dataframe tbody tr th {\n",
              "        vertical-align: top;\n",
              "    }\n",
              "\n",
              "    .dataframe thead th {\n",
              "        text-align: right;\n",
              "    }\n",
              "</style>\n",
              "<table border=\"1\" class=\"dataframe\">\n",
              "  <thead>\n",
              "    <tr style=\"text-align: right;\">\n",
              "      <th></th>\n",
              "      <th>qt</th>\n",
              "      <th>intercept</th>\n",
              "      <th>x_coef</th>\n",
              "      <th>cf_lower_bound</th>\n",
              "      <th>cf_upper_bound</th>\n",
              "    </tr>\n",
              "  </thead>\n",
              "  <tbody>\n",
              "    <tr>\n",
              "      <th>0</th>\n",
              "      <td>0.1</td>\n",
              "      <td>-38.037523</td>\n",
              "      <td>2.971210</td>\n",
              "      <td>1.541520</td>\n",
              "      <td>4.400901</td>\n",
              "    </tr>\n",
              "    <tr>\n",
              "      <th>1</th>\n",
              "      <td>0.2</td>\n",
              "      <td>-57.395853</td>\n",
              "      <td>15.452964</td>\n",
              "      <td>13.784857</td>\n",
              "      <td>17.121071</td>\n",
              "    </tr>\n",
              "    <tr>\n",
              "      <th>2</th>\n",
              "      <td>0.3</td>\n",
              "      <td>-16.504000</td>\n",
              "      <td>25.111066</td>\n",
              "      <td>23.074860</td>\n",
              "      <td>27.147272</td>\n",
              "    </tr>\n",
              "    <tr>\n",
              "      <th>3</th>\n",
              "      <td>0.4</td>\n",
              "      <td>94.451093</td>\n",
              "      <td>32.136508</td>\n",
              "      <td>29.698956</td>\n",
              "      <td>34.574060</td>\n",
              "    </tr>\n",
              "    <tr>\n",
              "      <th>4</th>\n",
              "      <td>0.5</td>\n",
              "      <td>65.734764</td>\n",
              "      <td>35.279215</td>\n",
              "      <td>32.445427</td>\n",
              "      <td>38.113004</td>\n",
              "    </tr>\n",
              "    <tr>\n",
              "      <th>5</th>\n",
              "      <td>0.6</td>\n",
              "      <td>7.146033</td>\n",
              "      <td>36.327698</td>\n",
              "      <td>33.302073</td>\n",
              "      <td>39.353324</td>\n",
              "    </tr>\n",
              "    <tr>\n",
              "      <th>6</th>\n",
              "      <td>0.7</td>\n",
              "      <td>112.346000</td>\n",
              "      <td>37.201051</td>\n",
              "      <td>33.827192</td>\n",
              "      <td>40.574910</td>\n",
              "    </tr>\n",
              "    <tr>\n",
              "      <th>7</th>\n",
              "      <td>0.8</td>\n",
              "      <td>95.240528</td>\n",
              "      <td>35.734179</td>\n",
              "      <td>31.643663</td>\n",
              "      <td>39.824696</td>\n",
              "    </tr>\n",
              "    <tr>\n",
              "      <th>8</th>\n",
              "      <td>0.9</td>\n",
              "      <td>20.461207</td>\n",
              "      <td>36.213122</td>\n",
              "      <td>30.685521</td>\n",
              "      <td>41.740724</td>\n",
              "    </tr>\n",
              "  </tbody>\n",
              "</table>\n",
              "</div>"
            ],
            "text/plain": [
              "    qt   intercept     x_coef  cf_lower_bound  cf_upper_bound\n",
              "0  0.1  -38.037523   2.971210        1.541520        4.400901\n",
              "1  0.2  -57.395853  15.452964       13.784857       17.121071\n",
              "2  0.3  -16.504000  25.111066       23.074860       27.147272\n",
              "3  0.4   94.451093  32.136508       29.698956       34.574060\n",
              "4  0.5   65.734764  35.279215       32.445427       38.113004\n",
              "5  0.6    7.146033  36.327698       33.302073       39.353324\n",
              "6  0.7  112.346000  37.201051       33.827192       40.574910\n",
              "7  0.8   95.240528  35.734179       31.643663       39.824696\n",
              "8  0.9   20.461207  36.213122       30.685521       41.740724"
            ]
          },
          "metadata": {
            "tags": []
          },
          "execution_count": 54
        }
      ]
    },
    {
      "cell_type": "code",
      "metadata": {
        "id": "gGfq0rS2bFBU"
      },
      "source": [
        "x_ = house['zipcode'].values.reshape(-1,1)\n",
        "y_ = house['price'].values\n",
        "model2 = LinearRegression(fit_intercept = True, normalize = False)\n",
        "model2.fit(x_, y_)\n",
        "\n",
        "y_pred2 = model2.predict(x_)"
      ],
      "execution_count": null,
      "outputs": []
    },
    {
      "cell_type": "code",
      "metadata": {
        "colab": {
          "base_uri": "https://localhost:8080/",
          "height": 296
        },
        "id": "GVKAaxKdahPB",
        "outputId": "bd7d8528-0b7d-468f-ae80-32bba37015a5"
      },
      "source": [
        "## Let us now plot 0.1th, 0.5th and 0.9th quantile models against our original data.\n",
        "# \n",
        "plt.figure(5)\n",
        "plt.scatter(x_, y_,  color='black')\n",
        "plt.plot(x_, y_pred2, color='blue',\n",
        "         linewidth=3, label='Lin Reg')\n",
        "\n",
        "y_pred3 = models[0].params['Intercept'] + models[0].params['zipcode'] * x_\n",
        "plt.plot(x_, y_pred3, color='red',\n",
        "         linewidth=3, label='Q Reg : 0.1')\n",
        "\n",
        "y_pred4 = models[4].params['Intercept'] + models[4].params['zipcode'] * x_\n",
        "plt.plot(x_, y_pred4, color='green',\n",
        "         linewidth=3, label='Q Reg : 0.5')\n",
        "\n",
        "\n",
        "y_pred5 = models[8].params['Intercept'] + models[8].params['zipcode'] * x_\n",
        "plt.plot(x_, y_pred5, color='cyan',\n",
        "         linewidth=3, label='Q Reg : 0.9')\n",
        "\n",
        "plt.xticks(())\n",
        "plt.yticks(())\n",
        "plt.xlabel(\"x\")\n",
        "plt.ylabel(\"y and predicted y\")\n",
        "plt.title(\"Quantile regression on data with non-constant variance\")\n",
        "plt.legend()\n"
      ],
      "execution_count": null,
      "outputs": [
        {
          "output_type": "execute_result",
          "data": {
            "text/plain": [
              "<matplotlib.legend.Legend at 0x7fcbd3156e90>"
            ]
          },
          "metadata": {
            "tags": []
          },
          "execution_count": 56
        },
        {
          "output_type": "display_data",
          "data": {
            "image/png": "[encoded data removed]",
            "text/plain": [
              "<Figure size 432x288 with 1 Axes>"
            ]
          },
          "metadata": {
            "tags": []
          }
        }
      ]
    },
    {
      "cell_type": "code",
      "metadata": {
        "colab": {
          "base_uri": "https://localhost:8080/",
          "height": 312
        },
        "id": "xj4v0RXudtS6",
        "outputId": "b7205d24-087d-4203-f352-9513e6b23192"
      },
      "source": [
        "\n",
        "# Changes in the quantile coeffiecients\n",
        "\n",
        "plt.figure(6)\n",
        "params.plot(x = 'qt', y = ['x_coef','cf_lower_bound', 'cf_upper_bound'], \n",
        "\ttitle = 'Slope for different quantiles', kind ='line', style = ['b-','r--','g--'])\n",
        "plt.show()"
      ],
      "execution_count": null,
      "outputs": [
        {
          "output_type": "display_data",
          "data": {
            "text/plain": [
              "<Figure size 432x288 with 0 Axes>"
            ]
          },
          "metadata": {
            "tags": []
          }
        },
        {
          "output_type": "display_data",
          "data": {
            "image/png": "[encoded data removed]",
            "text/plain": [
              "<Figure size 432x288 with 1 Axes>"
            ]
          },
          "metadata": {
            "tags": [],
            "needs_background": "light"
          }
        }
      ]
    },
    {
      "cell_type": "markdown",
      "metadata": {
        "id": "xx6cAWrHUBzH"
      },
      "source": [
        "RIDGE REGRESSION"
      ]
    },
    {
      "cell_type": "code",
      "metadata": {
        "colab": {
          "base_uri": "https://localhost:8080/"
        },
        "id": "B9jqQ9Gee5-d",
        "outputId": "02bd384e-163a-4a6b-d0e5-b0094e799544"
      },
      "source": [
        "house.columns"
      ],
      "execution_count": null,
      "outputs": [
        {
          "output_type": "execute_result",
          "data": {
            "text/plain": [
              "Index(['price', 'bedrooms', 'bathrooms', 'sqft_living', 'sqft_lot', 'floors',\n",
              "       'waterfront', 'condition', 'grade', 'sqft_above', 'sqft_basement',\n",
              "       'yr_built', 'zipcode', 'lat', 'long', 'sqft_living15', 'sqft_lot15'],\n",
              "      dtype='object')"
            ]
          },
          "metadata": {
            "tags": []
          },
          "execution_count": 58
        }
      ]
    },
    {
      "cell_type": "code",
      "metadata": {
        "id": "WL2zxF8Ne5Pl"
      },
      "source": [
        "X=house[['bedrooms', 'bathrooms', 'sqft_living', 'sqft_lot', 'floors',\n",
        "       'waterfront', 'condition', 'grade', 'sqft_above', 'sqft_basement',\n",
        "       'yr_built', 'zipcode', 'lat', 'long', 'sqft_living15', 'sqft_lot15']]\n",
        "y=house['price']"
      ],
      "execution_count": null,
      "outputs": []
    },
    {
      "cell_type": "code",
      "metadata": {
        "id": "WdqSB_cWePTV"
      },
      "source": [
        "#importing librariess\n",
        "from sklearn.model_selection import GridSearchCV\n",
        "from sklearn.linear_model import Ridge\n",
        "from sklearn.linear_model import LinearRegression\n",
        "from sklearn.metrics import mean_squared_error"
      ],
      "execution_count": null,
      "outputs": []
    },
    {
      "cell_type": "code",
      "metadata": {
        "id": "AXxMN72aejSc"
      },
      "source": [
        "# Creating ridge model\n",
        "ridge = Ridge(normalize=True)\n",
        "\n",
        "# Setting up grid to be used\n",
        "search = GridSearchCV(estimator=ridge, param_grid={'alpha':np.logspace(-5,2,8)},\n",
        "                      scoring='neg_mean_squared_error',n_jobs=1,refit=True,cv=10)"
      ],
      "execution_count": null,
      "outputs": []
    },
    {
      "cell_type": "code",
      "metadata": {
        "colab": {
          "base_uri": "https://localhost:8080/"
        },
        "id": "N2DIMe5terGA",
        "outputId": "502c74a7-5ac9-44ce-9577-fb82df99c47d"
      },
      "source": [
        "# Running the model\n",
        "search.fit(X,y)\n",
        "\n",
        "# Gives an alpha to set parameter\n",
        "search.best_params_\n",
        "print(search.best_score_)"
      ],
      "execution_count": null,
      "outputs": [
        {
          "output_type": "stream",
          "text": [
            "-11320973222.261496\n"
          ],
          "name": "stdout"
        }
      ]
    },
    {
      "cell_type": "code",
      "metadata": {
        "colab": {
          "base_uri": "https://localhost:8080/"
        },
        "id": "n5g4zunDftRD",
        "outputId": "79e9feea-b49a-4de5-c044-fad36fa7ee70"
      },
      "source": [
        "# We can confirm this by fitting our model with the ridge information and finding the mean squared error below\n",
        "#\n",
        "ridge = Ridge(normalize=True,alpha=0.01)\n",
        "ridge.fit(X,y)\n",
        "second_model = (mean_squared_error(y_true=y,y_pred=ridge.predict(X)))\n",
        "print(second_model)"
      ],
      "execution_count": null,
      "outputs": [
        {
          "output_type": "stream",
          "text": [
            "11218752855.138863\n"
          ],
          "name": "stdout"
        }
      ]
    },
    {
      "cell_type": "code",
      "metadata": {
        "colab": {
          "base_uri": "https://localhost:8080/"
        },
        "id": "8aonNBkvfzWF",
        "outputId": "c08f0078-ca54-4c65-a92a-04653461ade9"
      },
      "source": [
        "# Getting coefficients\n",
        "\n",
        "coef_dict_baseline = {}\n",
        "for coef, feat in zip(ridge.coef_, X.columns):\n",
        "    coef_dict_baseline[feat] = coef\n",
        "coef_dict_baseline"
      ],
      "execution_count": null,
      "outputs": [
        {
          "output_type": "execute_result",
          "data": {
            "text/plain": [
              "{'bathrooms': 15810.006278238563,\n",
              " 'bedrooms': -8918.403319150146,\n",
              " 'condition': 27937.772289363103,\n",
              " 'floors': 12499.054139314892,\n",
              " 'grade': 75672.99285651237,\n",
              " 'lat': 534530.8596116462,\n",
              " 'long': -3692.046081746543,\n",
              " 'sqft_above': 39.934081818233835,\n",
              " 'sqft_basement': 35.51183800401299,\n",
              " 'sqft_living': 49.97233796040996,\n",
              " 'sqft_living15': 50.03271714745872,\n",
              " 'sqft_lot': -2.6877792458822936,\n",
              " 'sqft_lot15': -5.46541767798107,\n",
              " 'waterfront': 0.0,\n",
              " 'yr_built': -1888.4844818062274,\n",
              " 'zipcode': -251.8963737629409}"
            ]
          },
          "metadata": {
            "tags": []
          },
          "execution_count": 64
        }
      ]
    },
    {
      "cell_type": "markdown",
      "metadata": {
        "id": "X-t0LKJwprE1"
      },
      "source": [
        "LASSO REGRESSION"
      ]
    },
    {
      "cell_type": "code",
      "metadata": {
        "id": "4kd-52txpwg4"
      },
      "source": [
        "# Importing StandardScaler\n",
        "#\n",
        "from sklearn.preprocessing import StandardScaler\n",
        "\n",
        "# Creating features and target matrixes\n",
        "\n",
        "X=house[['bedrooms', 'bathrooms', 'sqft_living', 'sqft_lot', 'floors',\n",
        "       'waterfront', 'condition', 'grade', 'sqft_above', 'sqft_basement',\n",
        "       'yr_built', 'zipcode', 'lat', 'long', 'sqft_living15', 'sqft_lot15']]\n",
        "y=house['price']\n",
        "# Scaling data \n",
        "#\n",
        "scaler = StandardScaler()\n",
        "scaler.fit(X)\n",
        "X = scaler.transform(X)"
      ],
      "execution_count": null,
      "outputs": []
    },
    {
      "cell_type": "code",
      "metadata": {
        "colab": {
          "base_uri": "https://localhost:8080/"
        },
        "id": "NqZQtKzBrGBh",
        "outputId": "066b80ef-112e-47e3-e4d4-65134d8177ad"
      },
      "source": [
        "# Importing linear models\n",
        "# \n",
        "from sklearn import linear_model\n",
        "from sklearn.metrics import mean_squared_error\n",
        "\n",
        "# Creating lasso object\n",
        "# \n",
        "lasso = linear_model.Lasso() \n",
        "\n",
        "# Fitting the models\n",
        "# \n",
        "lasso.fit(X, y) \n",
        "\n",
        "# Print scores, MSE, and coefficients\n",
        "# \n",
        "print(\"lasso score:\", lasso.score(X, y)) \n",
        "print(\"lasso MSE:\", mean_squared_error(y, lasso.predict(X))) \n",
        "print(\"lasso coef:\", lasso.coef_) "
      ],
      "execution_count": null,
      "outputs": [
        {
          "output_type": "stream",
          "text": [
            "lasso score: 0.6540585031254914\n",
            "lasso MSE: 11216737959.472757\n",
            "lasso coef: [ -7228.75571754  10509.02618362  85661.50520106  -8909.64539412\n",
            "   6884.84160939      0.          17987.32286352  61938.76871855\n",
            " -29536.45611573 -19028.15988541 -56668.26017989 -14001.01385854\n",
            "  76535.70258855   -291.24727195  25152.88359786 -16632.34446474]\n"
          ],
          "name": "stdout"
        }
      ]
    },
    {
      "cell_type": "code",
      "metadata": {
        "colab": {
          "base_uri": "https://localhost:8080/"
        },
        "id": "IUhAfm0gsfT1",
        "outputId": "363580b9-03ed-4cdf-a324-36d8eebd95f7"
      },
      "source": [
        "# Making necessary imports, split data into training and test sets, and choose a set of parameters \n",
        "from sklearn.model_selection import train_test_split\n",
        "from sklearn.model_selection import GridSearchCV\n",
        "import warnings\n",
        "warnings.filterwarnings(\"ignore\")\n",
        "\n",
        "X_train, X_test, y_train, y_test = train_test_split(X, y, test_size=0.25, random_state=101)\n",
        "parameters = {'alpha': np.concatenate((np.arange(0.1,2,0.1), np.arange(2, 5, 0.5), np.arange(5, 25, 1)))}\n",
        "\n",
        "linear = linear_model.LinearRegression()\n",
        "lasso = linear_model.Lasso() \n",
        "gridlasso = GridSearchCV(lasso, parameters, scoring ='r2') \n",
        "\n",
        "# Fitting models and print the best parameters, R-squared scores, MSE, and coefficients\n",
        "gridlasso.fit(X_train, y_train) \n",
        "linear.fit(X_train, y_train) \n",
        "print(\"lasso best parameters:\", gridlasso.best_params_) \n",
        "print(\"lasso score:\", gridlasso.score(X_test, y_test))\n",
        "print(\"linear score:\", linear.score(X_test, y_test)) \n",
        "print(\"lasso MSE:\", mean_squared_error(y_test, gridlasso.predict(X_test)))\n",
        "print(\"linear MSE:\", mean_squared_error(y_test, linear.predict(X_test))) \n",
        "print(\"lasso best estimator coef:\", gridlasso.best_estimator_.coef_)\n",
        "print(\"linear coef:\", linear.coef_)"
      ],
      "execution_count": null,
      "outputs": [
        {
          "output_type": "stream",
          "text": [
            "lasso best parameters: {'alpha': 21.0}\n",
            "lasso score: 0.6343446236052693\n",
            "linear score: 0.6343282167935711\n",
            "lasso MSE: 11862534435.402102\n",
            "linear MSE: 11863066702.616835\n",
            "lasso best estimator coef: [ -8536.57263734   9924.09660763  54731.0875234   -7621.13793275\n",
            "   6877.63866906      0.          18044.90128517  61584.64964071\n",
            "   1992.41112028      0.         -56760.64484667 -13900.51928916\n",
            "  76052.74255342    716.65658671  24820.97286072 -18888.80043141]\n",
            "linear coef: [ -8593.8494147    9966.04030783  31678.31545021  -7643.08646533\n",
            "   6901.92252054      0.          18058.05389749  61596.80212785\n",
            "  24581.91670569  13263.15760724 -56849.65596205 -13932.14915768\n",
            "  76064.59807396    747.14572027  24823.45736129 -18892.33424609]\n"
          ],
          "name": "stdout"
        }
      ]
    },
    {
      "cell_type": "code",
      "metadata": {
        "id": "gdWmdOh_TTxk"
      },
      "source": [
        "X=house[['bedrooms', 'bathrooms', 'sqft_living', 'sqft_lot', 'floors',\n",
        "       'waterfront', 'condition', 'grade', 'sqft_above', 'sqft_basement',\n",
        "       'yr_built', 'zipcode', 'lat', 'long', 'sqft_living15', 'sqft_lot15']]\n",
        "y=house['price']"
      ],
      "execution_count": null,
      "outputs": []
    },
    {
      "cell_type": "code",
      "metadata": {
        "colab": {
          "base_uri": "https://localhost:8080/"
        },
        "id": "ICIeXCobQ-YF",
        "outputId": "2d8735d5-f80e-4a46-c5d0-62bb21c57ec8"
      },
      "source": [
        "#linear coefficient\n",
        "coef_dict_baseline = {}\n",
        "for coef, feat in zip(linear.coef_, X.columns):\n",
        "    coef_dict_baseline[feat] = coef\n",
        "coef_dict_baseline"
      ],
      "execution_count": null,
      "outputs": [
        {
          "output_type": "execute_result",
          "data": {
            "text/plain": [
              "{'bathrooms': 9966.040307830583,\n",
              " 'bedrooms': -8593.849414699862,\n",
              " 'condition': 18058.053897492566,\n",
              " 'floors': 6901.922520537215,\n",
              " 'grade': 61596.802127853065,\n",
              " 'lat': 76064.59807396142,\n",
              " 'long': 747.1457202689971,\n",
              " 'sqft_above': 24581.91670568838,\n",
              " 'sqft_basement': 13263.157607236522,\n",
              " 'sqft_living': 31678.315450213264,\n",
              " 'sqft_living15': 24823.45736129428,\n",
              " 'sqft_lot': -7643.086465326059,\n",
              " 'sqft_lot15': -18892.334246085407,\n",
              " 'waterfront': 0.0,\n",
              " 'yr_built': -56849.65596204933,\n",
              " 'zipcode': -13932.149157681582}"
            ]
          },
          "metadata": {
            "tags": []
          },
          "execution_count": 69
        }
      ]
    },
    {
      "cell_type": "code",
      "metadata": {
        "colab": {
          "base_uri": "https://localhost:8080/"
        },
        "id": "kQ-dkfrHQ_zn",
        "outputId": "4912b770-3ef0-429e-c400-058e39c957c6"
      },
      "source": [
        "coef_dict_baseline = {}\n",
        "for coef, feat in zip(gridlasso.best_estimator_.coef_, X.columns):\n",
        "    coef_dict_baseline[feat] = coef\n",
        "coef_dict_baseline\n"
      ],
      "execution_count": null,
      "outputs": [
        {
          "output_type": "execute_result",
          "data": {
            "text/plain": [
              "{'bathrooms': 9924.09660763367,\n",
              " 'bedrooms': -8536.57263733969,\n",
              " 'condition': 18044.90128516889,\n",
              " 'floors': 6877.638669064678,\n",
              " 'grade': 61584.64964070693,\n",
              " 'lat': 76052.74255342362,\n",
              " 'long': 716.6565867094952,\n",
              " 'sqft_above': 1992.4111202776667,\n",
              " 'sqft_basement': 0.0,\n",
              " 'sqft_living': 54731.08752340046,\n",
              " 'sqft_living15': 24820.97286072218,\n",
              " 'sqft_lot': -7621.137932745559,\n",
              " 'sqft_lot15': -18888.800431407402,\n",
              " 'waterfront': 0.0,\n",
              " 'yr_built': -56760.64484666878,\n",
              " 'zipcode': -13900.519289158487}"
            ]
          },
          "metadata": {
            "tags": []
          },
          "execution_count": 70
        }
      ]
    },
    {
      "cell_type": "code",
      "metadata": {
        "colab": {
          "base_uri": "https://localhost:8080/",
          "height": 458
        },
        "id": "l9jhYxFFtNYz",
        "outputId": "c574dd01-eb39-4c00-a348-bc1e19bce91f"
      },
      "source": [
        "import matplotlib.pyplot as plt\n",
        "coefsLasso = [] \n",
        "\n",
        "# Building Lasso for 200 values of alpha and write the coefficients into array\n",
        "# \n",
        "alphasLasso = np.arange (0, 20, 0.1) \n",
        "for i in range(200):\n",
        "    lasso = linear_model.Lasso(alpha=alphasLasso[i])\n",
        "    lasso.fit(X_train, y_train)\n",
        "    coefsLasso.append(lasso.coef_) \n",
        "\n",
        "# Building Lasso coefficient plots\n",
        "# \n",
        "plt.figure(figsize = (16,7))\n",
        "\n",
        "plt.subplot(121)\n",
        "plt.plot(alphasLasso, coefsLasso)\n",
        "plt.title('Lasso coefficients')\n",
        "plt.xlabel('alpha')\n",
        "plt.ylabel('coefs')\n",
        "\n",
        "plt.show()\n"
      ],
      "execution_count": null,
      "outputs": [
        {
          "output_type": "display_data",
          "data": {
            "image/png": "[encoded data removed]",
            "text/plain": [
              "<Figure size 1152x504 with 1 Axes>"
            ]
          },
          "metadata": {
            "tags": [],
            "needs_background": "light"
          }
        }
      ]
    },
    {
      "cell_type": "markdown",
      "metadata": {
        "id": "Pl7JtKCLvVbD"
      },
      "source": [
        "ELASTIC NET REGRESSION"
      ]
    },
    {
      "cell_type": "code",
      "metadata": {
        "colab": {
          "base_uri": "https://localhost:8080/"
        },
        "id": "99MF-LbwvU9W",
        "outputId": "6f0bc0ba-2099-41f4-f3b0-5859ab6bf5a5"
      },
      "source": [
        "from sklearn.linear_model import ElasticNet\n",
        "# Linear regression model for the purpose of comparison\n",
        "# \n",
        "regression=LinearRegression()\n",
        "regression.fit(X,y)\n",
        "first_model=(mean_squared_error(y_true=y, y_pred=regression.predict(X)))\n",
        "print(first_model)"
      ],
      "execution_count": null,
      "outputs": [
        {
          "output_type": "stream",
          "text": [
            "11216737928.679111\n"
          ],
          "name": "stdout"
        }
      ]
    },
    {
      "cell_type": "code",
      "metadata": {
        "id": "eO5coFdtw8tS"
      },
      "source": [
        "#elastic net model\n",
        "elastic=ElasticNet(normalize=True)\n",
        "search=GridSearchCV(estimator=elastic,param_grid={'alpha':np.logspace(-5,2,8),'l1_ratio':[.2,.4,.6,.8]},scoring='neg_mean_squared_error',n_jobs=1,refit=True,cv=10)"
      ],
      "execution_count": null,
      "outputs": []
    },
    {
      "cell_type": "code",
      "metadata": {
        "colab": {
          "base_uri": "https://localhost:8080/"
        },
        "id": "Rw53cZGOxNH1",
        "outputId": "2f7f366e-4aa5-475e-d5e3-3043a6a23469"
      },
      "source": [
        "# Fitting our model and display the best parameters \n",
        "search.fit(X,y)\n",
        "search.best_params_\n",
        "\n"
      ],
      "execution_count": null,
      "outputs": [
        {
          "output_type": "execute_result",
          "data": {
            "text/plain": [
              "{'alpha': 1e-05, 'l1_ratio': 0.8}"
            ]
          },
          "metadata": {
            "tags": []
          },
          "execution_count": 79
        }
      ]
    },
    {
      "cell_type": "code",
      "metadata": {
        "colab": {
          "base_uri": "https://localhost:8080/"
        },
        "id": "grDz0EydxzIH",
        "outputId": "009aa034-3c82-407e-8a7b-f177e33ae15a"
      },
      "source": [
        "search.best_score_"
      ],
      "execution_count": null,
      "outputs": [
        {
          "output_type": "execute_result",
          "data": {
            "text/plain": [
              "-11327537087.334845"
            ]
          },
          "metadata": {
            "tags": []
          },
          "execution_count": 75
        }
      ]
    },
    {
      "cell_type": "code",
      "metadata": {
        "colab": {
          "base_uri": "https://localhost:8080/"
        },
        "id": "SQKEockCx9Wj",
        "outputId": "578254c6-52b2-47c9-a928-c606a212b1e7"
      },
      "source": [
        "# setting hyperparameter to the recommended value\n",
        "\n",
        "elastic=ElasticNet(normalize=True,alpha=1e-05,l1_ratio=0.8)\n",
        "elastic.fit(X,y)\n",
        "second_model=(mean_squared_error(y_true=y,y_pred=elastic.predict(X)))\n",
        "print(second_model)"
      ],
      "execution_count": null,
      "outputs": [
        {
          "output_type": "stream",
          "text": [
            "11233382331.663284\n"
          ],
          "name": "stdout"
        }
      ]
    },
    {
      "cell_type": "code",
      "metadata": {
        "id": "Bu8N2ShJy8DE"
      },
      "source": [
        "\n",
        "X=house[['bedrooms', 'bathrooms', 'sqft_living', 'sqft_lot', 'floors',\n",
        "       'waterfront', 'condition', 'grade', 'sqft_above', 'sqft_basement',\n",
        "       'yr_built', 'zipcode', 'lat', 'long', 'sqft_living15', 'sqft_lot15']]\n",
        "y=house['price']\n"
      ],
      "execution_count": null,
      "outputs": []
    },
    {
      "cell_type": "code",
      "metadata": {
        "colab": {
          "base_uri": "https://localhost:8080/"
        },
        "id": "UcvZRCO5yFf-",
        "outputId": "0baa818b-4444-472f-b67f-30b2c30dd328"
      },
      "source": [
        "# Coefficients\n",
        "\n",
        "coef_dict_baseline = {}\n",
        "for coef, feat in zip(elastic.coef_, X.columns):\n",
        "    coef_dict_baseline[feat] = coef\n",
        "coef_dict_baseline"
      ],
      "execution_count": null,
      "outputs": [
        {
          "output_type": "execute_result",
          "data": {
            "text/plain": [
              "{'bathrooms': 15057.946352046461,\n",
              " 'bedrooms': -8103.968101854715,\n",
              " 'condition': 28121.021154476213,\n",
              " 'floors': 12385.43434308835,\n",
              " 'grade': 73323.22224512801,\n",
              " 'lat': 526425.6350391939,\n",
              " 'long': -5902.299571078154,\n",
              " 'sqft_above': 39.5157718284558,\n",
              " 'sqft_basement': 35.721309668323244,\n",
              " 'sqft_living': 49.64099286189063,\n",
              " 'sqft_living15': 50.70860481509798,\n",
              " 'sqft_lot': -2.732087776348944,\n",
              " 'sqft_lot15': -5.286154746457335,\n",
              " 'waterfront': 0.0,\n",
              " 'yr_built': -1799.3863655662608,\n",
              " 'zipcode': -233.40082216381543}"
            ]
          },
          "metadata": {
            "tags": []
          },
          "execution_count": 78
        }
      ]
    },
    {
      "cell_type": "markdown",
      "metadata": {
        "id": "w2PKWrxli_M2"
      },
      "source": [
        "##IMPLEMENTING THE SOLUTION\n",
        "\n",
        "We would look at the MSE values of each model to determine the accurate model.\n",
        "\n",
        "\n",
        "*   Multiple Linear Regression  28342898727.61848\n",
        "*   Ridge Regression            11218752855.138863\n",
        "*   Lasso Regression            11862534435.402102\n",
        "*   Elastic Net Regression      11216737928.679111\n",
        "\n",
        "\n",
        "\n",
        "\n",
        "\n",
        "\n",
        "\n",
        "\n",
        "Looking at the MSE values Lasso Regression has the least MSE hence it is the best model to be used to predict the housing prices."
      ]
    }
  ]
}